{
 "cells": [
  {
   "cell_type": "code",
   "execution_count": 1,
   "id": "71d8bb15",
   "metadata": {},
   "outputs": [],
   "source": [
    "import pandas as pd\n",
    "import numpy as np"
   ]
  },
  {
   "cell_type": "code",
   "execution_count": 2,
   "id": "bb4a7f54",
   "metadata": {},
   "outputs": [],
   "source": [
    "dataset = [['Milk','Tea','Ghee','Biscuits','Chocolates','Soap'],\n",
    "           ['Tea','Waffers','Cookies'],\n",
    "           ['Pencil','Rubber','Ballpen'],\n",
    "           ['Milk', 'Ballpen','Rubber','Biscuits','Soap'],\n",
    "           ['Tea', 'Ghee', 'Cookies'],\n",
    "           ['Waffers','Biscuits','Ballpen']]"
   ]
  },
  {
   "cell_type": "code",
   "execution_count": 3,
   "id": "6ef9e2cd",
   "metadata": {},
   "outputs": [
    {
     "data": {
      "text/plain": [
       "[['Milk', 'Tea', 'Ghee', 'Biscuits', 'Chocolates', 'Soap'],\n",
       " ['Tea', 'Waffers', 'Cookies'],\n",
       " ['Pencil', 'Rubber', 'Ballpen'],\n",
       " ['Milk', 'Ballpen', 'Rubber', 'Biscuits', 'Soap'],\n",
       " ['Tea', 'Ghee', 'Cookies'],\n",
       " ['Waffers', 'Biscuits', 'Ballpen']]"
      ]
     },
     "execution_count": 3,
     "metadata": {},
     "output_type": "execute_result"
    }
   ],
   "source": [
    "dataset"
   ]
  },
  {
   "cell_type": "code",
   "execution_count": 5,
   "id": "80bb62ff",
   "metadata": {},
   "outputs": [],
   "source": [
    "#! pip install mlxtend"
   ]
  },
  {
   "cell_type": "code",
   "execution_count": 6,
   "id": "6b5535f5",
   "metadata": {},
   "outputs": [],
   "source": [
    "from mlxtend.preprocessing import TransactionEncoder"
   ]
  },
  {
   "cell_type": "code",
   "execution_count": 7,
   "id": "a1faae1b",
   "metadata": {},
   "outputs": [],
   "source": [
    "te = TransactionEncoder()"
   ]
  },
  {
   "cell_type": "code",
   "execution_count": 8,
   "id": "c25885f8",
   "metadata": {},
   "outputs": [],
   "source": [
    "data = te.fit_transform(dataset)\n",
    "unique_items = te.columns_"
   ]
  },
  {
   "cell_type": "code",
   "execution_count": 13,
   "id": "31e757d2",
   "metadata": {},
   "outputs": [
    {
     "data": {
      "text/plain": [
       "{'Ballpen': 0,\n",
       " 'Biscuits': 1,\n",
       " 'Chocolates': 2,\n",
       " 'Cookies': 3,\n",
       " 'Ghee': 4,\n",
       " 'Milk': 5,\n",
       " 'Pencil': 6,\n",
       " 'Rubber': 7,\n",
       " 'Soap': 8,\n",
       " 'Tea': 9,\n",
       " 'Waffers': 10}"
      ]
     },
     "execution_count": 13,
     "metadata": {},
     "output_type": "execute_result"
    }
   ],
   "source": [
    "te.columns_mapping_"
   ]
  },
  {
   "cell_type": "code",
   "execution_count": 9,
   "id": "c32d0e82",
   "metadata": {},
   "outputs": [
    {
     "name": "stdout",
     "output_type": "stream",
     "text": [
      "[[False  True  True False  True  True False False  True  True False]\n",
      " [False False False  True False False False False False  True  True]\n",
      " [ True False False False False False  True  True False False False]\n",
      " [ True  True False False False  True False  True  True False False]\n",
      " [False False False  True  True False False False False  True False]\n",
      " [ True  True False False False False False False False False  True]]\n"
     ]
    }
   ],
   "source": [
    "print(data)"
   ]
  },
  {
   "cell_type": "code",
   "execution_count": 10,
   "id": "9039172f",
   "metadata": {},
   "outputs": [
    {
     "name": "stdout",
     "output_type": "stream",
     "text": [
      "['Ballpen', 'Biscuits', 'Chocolates', 'Cookies', 'Ghee', 'Milk', 'Pencil', 'Rubber', 'Soap', 'Tea', 'Waffers']\n"
     ]
    }
   ],
   "source": [
    "print(unique_items)"
   ]
  },
  {
   "cell_type": "code",
   "execution_count": 11,
   "id": "ec39aa60",
   "metadata": {},
   "outputs": [],
   "source": [
    "df = pd.DataFrame(data, columns=unique_items)"
   ]
  },
  {
   "cell_type": "code",
   "execution_count": 12,
   "id": "92ef6219",
   "metadata": {},
   "outputs": [
    {
     "data": {
      "text/html": [
       "<div>\n",
       "<style scoped>\n",
       "    .dataframe tbody tr th:only-of-type {\n",
       "        vertical-align: middle;\n",
       "    }\n",
       "\n",
       "    .dataframe tbody tr th {\n",
       "        vertical-align: top;\n",
       "    }\n",
       "\n",
       "    .dataframe thead th {\n",
       "        text-align: right;\n",
       "    }\n",
       "</style>\n",
       "<table border=\"1\" class=\"dataframe\">\n",
       "  <thead>\n",
       "    <tr style=\"text-align: right;\">\n",
       "      <th></th>\n",
       "      <th>Ballpen</th>\n",
       "      <th>Biscuits</th>\n",
       "      <th>Chocolates</th>\n",
       "      <th>Cookies</th>\n",
       "      <th>Ghee</th>\n",
       "      <th>Milk</th>\n",
       "      <th>Pencil</th>\n",
       "      <th>Rubber</th>\n",
       "      <th>Soap</th>\n",
       "      <th>Tea</th>\n",
       "      <th>Waffers</th>\n",
       "    </tr>\n",
       "  </thead>\n",
       "  <tbody>\n",
       "    <tr>\n",
       "      <th>0</th>\n",
       "      <td>False</td>\n",
       "      <td>True</td>\n",
       "      <td>True</td>\n",
       "      <td>False</td>\n",
       "      <td>True</td>\n",
       "      <td>True</td>\n",
       "      <td>False</td>\n",
       "      <td>False</td>\n",
       "      <td>True</td>\n",
       "      <td>True</td>\n",
       "      <td>False</td>\n",
       "    </tr>\n",
       "    <tr>\n",
       "      <th>1</th>\n",
       "      <td>False</td>\n",
       "      <td>False</td>\n",
       "      <td>False</td>\n",
       "      <td>True</td>\n",
       "      <td>False</td>\n",
       "      <td>False</td>\n",
       "      <td>False</td>\n",
       "      <td>False</td>\n",
       "      <td>False</td>\n",
       "      <td>True</td>\n",
       "      <td>True</td>\n",
       "    </tr>\n",
       "    <tr>\n",
       "      <th>2</th>\n",
       "      <td>True</td>\n",
       "      <td>False</td>\n",
       "      <td>False</td>\n",
       "      <td>False</td>\n",
       "      <td>False</td>\n",
       "      <td>False</td>\n",
       "      <td>True</td>\n",
       "      <td>True</td>\n",
       "      <td>False</td>\n",
       "      <td>False</td>\n",
       "      <td>False</td>\n",
       "    </tr>\n",
       "    <tr>\n",
       "      <th>3</th>\n",
       "      <td>True</td>\n",
       "      <td>True</td>\n",
       "      <td>False</td>\n",
       "      <td>False</td>\n",
       "      <td>False</td>\n",
       "      <td>True</td>\n",
       "      <td>False</td>\n",
       "      <td>True</td>\n",
       "      <td>True</td>\n",
       "      <td>False</td>\n",
       "      <td>False</td>\n",
       "    </tr>\n",
       "    <tr>\n",
       "      <th>4</th>\n",
       "      <td>False</td>\n",
       "      <td>False</td>\n",
       "      <td>False</td>\n",
       "      <td>True</td>\n",
       "      <td>True</td>\n",
       "      <td>False</td>\n",
       "      <td>False</td>\n",
       "      <td>False</td>\n",
       "      <td>False</td>\n",
       "      <td>True</td>\n",
       "      <td>False</td>\n",
       "    </tr>\n",
       "    <tr>\n",
       "      <th>5</th>\n",
       "      <td>True</td>\n",
       "      <td>True</td>\n",
       "      <td>False</td>\n",
       "      <td>False</td>\n",
       "      <td>False</td>\n",
       "      <td>False</td>\n",
       "      <td>False</td>\n",
       "      <td>False</td>\n",
       "      <td>False</td>\n",
       "      <td>False</td>\n",
       "      <td>True</td>\n",
       "    </tr>\n",
       "  </tbody>\n",
       "</table>\n",
       "</div>"
      ],
      "text/plain": [
       "   Ballpen  Biscuits  Chocolates  Cookies   Ghee   Milk  Pencil  Rubber  \\\n",
       "0    False      True        True    False   True   True   False   False   \n",
       "1    False     False       False     True  False  False   False   False   \n",
       "2     True     False       False    False  False  False    True    True   \n",
       "3     True      True       False    False  False   True   False    True   \n",
       "4    False     False       False     True   True  False   False   False   \n",
       "5     True      True       False    False  False  False   False   False   \n",
       "\n",
       "    Soap    Tea  Waffers  \n",
       "0   True   True    False  \n",
       "1  False   True     True  \n",
       "2  False  False    False  \n",
       "3   True  False    False  \n",
       "4  False   True    False  \n",
       "5  False  False     True  "
      ]
     },
     "execution_count": 12,
     "metadata": {},
     "output_type": "execute_result"
    }
   ],
   "source": [
    "df"
   ]
  },
  {
   "cell_type": "code",
   "execution_count": 14,
   "id": "9896cf9b",
   "metadata": {},
   "outputs": [
    {
     "name": "stdout",
     "output_type": "stream",
     "text": [
      "<class 'pandas.core.frame.DataFrame'>\n",
      "RangeIndex: 6 entries, 0 to 5\n",
      "Data columns (total 11 columns):\n",
      " #   Column      Non-Null Count  Dtype\n",
      "---  ------      --------------  -----\n",
      " 0   Ballpen     6 non-null      bool \n",
      " 1   Biscuits    6 non-null      bool \n",
      " 2   Chocolates  6 non-null      bool \n",
      " 3   Cookies     6 non-null      bool \n",
      " 4   Ghee        6 non-null      bool \n",
      " 5   Milk        6 non-null      bool \n",
      " 6   Pencil      6 non-null      bool \n",
      " 7   Rubber      6 non-null      bool \n",
      " 8   Soap        6 non-null      bool \n",
      " 9   Tea         6 non-null      bool \n",
      " 10  Waffers     6 non-null      bool \n",
      "dtypes: bool(11)\n",
      "memory usage: 194.0 bytes\n"
     ]
    }
   ],
   "source": [
    "df.info()"
   ]
  },
  {
   "cell_type": "markdown",
   "id": "7df50857",
   "metadata": {},
   "source": [
    "## Training the Apriori model"
   ]
  },
  {
   "cell_type": "code",
   "execution_count": 15,
   "id": "803d131a",
   "metadata": {},
   "outputs": [],
   "source": [
    "from mlxtend.frequent_patterns import apriori"
   ]
  },
  {
   "cell_type": "code",
   "execution_count": 32,
   "id": "bb153f18",
   "metadata": {},
   "outputs": [],
   "source": [
    "rules = apriori(df, min_support = 0.2)"
   ]
  },
  {
   "cell_type": "code",
   "execution_count": 33,
   "id": "9a6babbf",
   "metadata": {},
   "outputs": [
    {
     "name": "stdout",
     "output_type": "stream",
     "text": [
      "     support   itemsets\n",
      "0   0.500000        (0)\n",
      "1   0.500000        (1)\n",
      "2   0.333333        (3)\n",
      "3   0.333333        (4)\n",
      "4   0.333333        (5)\n",
      "5   0.333333        (7)\n",
      "6   0.333333        (8)\n",
      "7   0.500000        (9)\n",
      "8   0.333333       (10)\n",
      "9   0.333333     (0, 1)\n",
      "10  0.333333     (0, 7)\n",
      "11  0.333333     (1, 5)\n",
      "12  0.333333     (8, 1)\n",
      "13  0.333333     (9, 3)\n",
      "14  0.333333     (9, 4)\n",
      "15  0.333333     (8, 5)\n",
      "16  0.333333  (8, 1, 5)\n"
     ]
    }
   ],
   "source": [
    "print(rules)"
   ]
  },
  {
   "cell_type": "code",
   "execution_count": 34,
   "id": "194678f1",
   "metadata": {},
   "outputs": [],
   "source": [
    "frequent_itemset = apriori(df, min_support=0.2, use_colnames = True)"
   ]
  },
  {
   "cell_type": "code",
   "execution_count": 35,
   "id": "8dbc5bb6",
   "metadata": {},
   "outputs": [
    {
     "data": {
      "text/html": [
       "<div>\n",
       "<style scoped>\n",
       "    .dataframe tbody tr th:only-of-type {\n",
       "        vertical-align: middle;\n",
       "    }\n",
       "\n",
       "    .dataframe tbody tr th {\n",
       "        vertical-align: top;\n",
       "    }\n",
       "\n",
       "    .dataframe thead th {\n",
       "        text-align: right;\n",
       "    }\n",
       "</style>\n",
       "<table border=\"1\" class=\"dataframe\">\n",
       "  <thead>\n",
       "    <tr style=\"text-align: right;\">\n",
       "      <th></th>\n",
       "      <th>support</th>\n",
       "      <th>itemsets</th>\n",
       "    </tr>\n",
       "  </thead>\n",
       "  <tbody>\n",
       "    <tr>\n",
       "      <th>0</th>\n",
       "      <td>0.500000</td>\n",
       "      <td>(Ballpen)</td>\n",
       "    </tr>\n",
       "    <tr>\n",
       "      <th>1</th>\n",
       "      <td>0.500000</td>\n",
       "      <td>(Biscuits)</td>\n",
       "    </tr>\n",
       "    <tr>\n",
       "      <th>2</th>\n",
       "      <td>0.333333</td>\n",
       "      <td>(Cookies)</td>\n",
       "    </tr>\n",
       "    <tr>\n",
       "      <th>3</th>\n",
       "      <td>0.333333</td>\n",
       "      <td>(Ghee)</td>\n",
       "    </tr>\n",
       "    <tr>\n",
       "      <th>4</th>\n",
       "      <td>0.333333</td>\n",
       "      <td>(Milk)</td>\n",
       "    </tr>\n",
       "    <tr>\n",
       "      <th>5</th>\n",
       "      <td>0.333333</td>\n",
       "      <td>(Rubber)</td>\n",
       "    </tr>\n",
       "    <tr>\n",
       "      <th>6</th>\n",
       "      <td>0.333333</td>\n",
       "      <td>(Soap)</td>\n",
       "    </tr>\n",
       "    <tr>\n",
       "      <th>7</th>\n",
       "      <td>0.500000</td>\n",
       "      <td>(Tea)</td>\n",
       "    </tr>\n",
       "    <tr>\n",
       "      <th>8</th>\n",
       "      <td>0.333333</td>\n",
       "      <td>(Waffers)</td>\n",
       "    </tr>\n",
       "    <tr>\n",
       "      <th>9</th>\n",
       "      <td>0.333333</td>\n",
       "      <td>(Ballpen, Biscuits)</td>\n",
       "    </tr>\n",
       "    <tr>\n",
       "      <th>10</th>\n",
       "      <td>0.333333</td>\n",
       "      <td>(Ballpen, Rubber)</td>\n",
       "    </tr>\n",
       "    <tr>\n",
       "      <th>11</th>\n",
       "      <td>0.333333</td>\n",
       "      <td>(Milk, Biscuits)</td>\n",
       "    </tr>\n",
       "    <tr>\n",
       "      <th>12</th>\n",
       "      <td>0.333333</td>\n",
       "      <td>(Soap, Biscuits)</td>\n",
       "    </tr>\n",
       "    <tr>\n",
       "      <th>13</th>\n",
       "      <td>0.333333</td>\n",
       "      <td>(Tea, Cookies)</td>\n",
       "    </tr>\n",
       "    <tr>\n",
       "      <th>14</th>\n",
       "      <td>0.333333</td>\n",
       "      <td>(Ghee, Tea)</td>\n",
       "    </tr>\n",
       "    <tr>\n",
       "      <th>15</th>\n",
       "      <td>0.333333</td>\n",
       "      <td>(Milk, Soap)</td>\n",
       "    </tr>\n",
       "    <tr>\n",
       "      <th>16</th>\n",
       "      <td>0.333333</td>\n",
       "      <td>(Milk, Soap, Biscuits)</td>\n",
       "    </tr>\n",
       "  </tbody>\n",
       "</table>\n",
       "</div>"
      ],
      "text/plain": [
       "     support                itemsets\n",
       "0   0.500000               (Ballpen)\n",
       "1   0.500000              (Biscuits)\n",
       "2   0.333333               (Cookies)\n",
       "3   0.333333                  (Ghee)\n",
       "4   0.333333                  (Milk)\n",
       "5   0.333333                (Rubber)\n",
       "6   0.333333                  (Soap)\n",
       "7   0.500000                   (Tea)\n",
       "8   0.333333               (Waffers)\n",
       "9   0.333333     (Ballpen, Biscuits)\n",
       "10  0.333333       (Ballpen, Rubber)\n",
       "11  0.333333        (Milk, Biscuits)\n",
       "12  0.333333        (Soap, Biscuits)\n",
       "13  0.333333          (Tea, Cookies)\n",
       "14  0.333333             (Ghee, Tea)\n",
       "15  0.333333            (Milk, Soap)\n",
       "16  0.333333  (Milk, Soap, Biscuits)"
      ]
     },
     "execution_count": 35,
     "metadata": {},
     "output_type": "execute_result"
    }
   ],
   "source": [
    "frequent_itemset"
   ]
  },
  {
   "cell_type": "code",
   "execution_count": 36,
   "id": "0d704f35",
   "metadata": {},
   "outputs": [],
   "source": [
    "frequent_itemset['length'] = frequent_itemset['itemsets'].apply(lambda x: len(x))"
   ]
  },
  {
   "cell_type": "code",
   "execution_count": 37,
   "id": "ac742086",
   "metadata": {},
   "outputs": [
    {
     "data": {
      "text/html": [
       "<div>\n",
       "<style scoped>\n",
       "    .dataframe tbody tr th:only-of-type {\n",
       "        vertical-align: middle;\n",
       "    }\n",
       "\n",
       "    .dataframe tbody tr th {\n",
       "        vertical-align: top;\n",
       "    }\n",
       "\n",
       "    .dataframe thead th {\n",
       "        text-align: right;\n",
       "    }\n",
       "</style>\n",
       "<table border=\"1\" class=\"dataframe\">\n",
       "  <thead>\n",
       "    <tr style=\"text-align: right;\">\n",
       "      <th></th>\n",
       "      <th>support</th>\n",
       "      <th>itemsets</th>\n",
       "      <th>length</th>\n",
       "    </tr>\n",
       "  </thead>\n",
       "  <tbody>\n",
       "    <tr>\n",
       "      <th>0</th>\n",
       "      <td>0.500000</td>\n",
       "      <td>(Ballpen)</td>\n",
       "      <td>1</td>\n",
       "    </tr>\n",
       "    <tr>\n",
       "      <th>1</th>\n",
       "      <td>0.500000</td>\n",
       "      <td>(Biscuits)</td>\n",
       "      <td>1</td>\n",
       "    </tr>\n",
       "    <tr>\n",
       "      <th>2</th>\n",
       "      <td>0.333333</td>\n",
       "      <td>(Cookies)</td>\n",
       "      <td>1</td>\n",
       "    </tr>\n",
       "    <tr>\n",
       "      <th>3</th>\n",
       "      <td>0.333333</td>\n",
       "      <td>(Ghee)</td>\n",
       "      <td>1</td>\n",
       "    </tr>\n",
       "    <tr>\n",
       "      <th>4</th>\n",
       "      <td>0.333333</td>\n",
       "      <td>(Milk)</td>\n",
       "      <td>1</td>\n",
       "    </tr>\n",
       "    <tr>\n",
       "      <th>5</th>\n",
       "      <td>0.333333</td>\n",
       "      <td>(Rubber)</td>\n",
       "      <td>1</td>\n",
       "    </tr>\n",
       "    <tr>\n",
       "      <th>6</th>\n",
       "      <td>0.333333</td>\n",
       "      <td>(Soap)</td>\n",
       "      <td>1</td>\n",
       "    </tr>\n",
       "    <tr>\n",
       "      <th>7</th>\n",
       "      <td>0.500000</td>\n",
       "      <td>(Tea)</td>\n",
       "      <td>1</td>\n",
       "    </tr>\n",
       "    <tr>\n",
       "      <th>8</th>\n",
       "      <td>0.333333</td>\n",
       "      <td>(Waffers)</td>\n",
       "      <td>1</td>\n",
       "    </tr>\n",
       "    <tr>\n",
       "      <th>9</th>\n",
       "      <td>0.333333</td>\n",
       "      <td>(Ballpen, Biscuits)</td>\n",
       "      <td>2</td>\n",
       "    </tr>\n",
       "    <tr>\n",
       "      <th>10</th>\n",
       "      <td>0.333333</td>\n",
       "      <td>(Ballpen, Rubber)</td>\n",
       "      <td>2</td>\n",
       "    </tr>\n",
       "    <tr>\n",
       "      <th>11</th>\n",
       "      <td>0.333333</td>\n",
       "      <td>(Milk, Biscuits)</td>\n",
       "      <td>2</td>\n",
       "    </tr>\n",
       "    <tr>\n",
       "      <th>12</th>\n",
       "      <td>0.333333</td>\n",
       "      <td>(Soap, Biscuits)</td>\n",
       "      <td>2</td>\n",
       "    </tr>\n",
       "    <tr>\n",
       "      <th>13</th>\n",
       "      <td>0.333333</td>\n",
       "      <td>(Tea, Cookies)</td>\n",
       "      <td>2</td>\n",
       "    </tr>\n",
       "    <tr>\n",
       "      <th>14</th>\n",
       "      <td>0.333333</td>\n",
       "      <td>(Ghee, Tea)</td>\n",
       "      <td>2</td>\n",
       "    </tr>\n",
       "    <tr>\n",
       "      <th>15</th>\n",
       "      <td>0.333333</td>\n",
       "      <td>(Milk, Soap)</td>\n",
       "      <td>2</td>\n",
       "    </tr>\n",
       "    <tr>\n",
       "      <th>16</th>\n",
       "      <td>0.333333</td>\n",
       "      <td>(Milk, Soap, Biscuits)</td>\n",
       "      <td>3</td>\n",
       "    </tr>\n",
       "  </tbody>\n",
       "</table>\n",
       "</div>"
      ],
      "text/plain": [
       "     support                itemsets  length\n",
       "0   0.500000               (Ballpen)       1\n",
       "1   0.500000              (Biscuits)       1\n",
       "2   0.333333               (Cookies)       1\n",
       "3   0.333333                  (Ghee)       1\n",
       "4   0.333333                  (Milk)       1\n",
       "5   0.333333                (Rubber)       1\n",
       "6   0.333333                  (Soap)       1\n",
       "7   0.500000                   (Tea)       1\n",
       "8   0.333333               (Waffers)       1\n",
       "9   0.333333     (Ballpen, Biscuits)       2\n",
       "10  0.333333       (Ballpen, Rubber)       2\n",
       "11  0.333333        (Milk, Biscuits)       2\n",
       "12  0.333333        (Soap, Biscuits)       2\n",
       "13  0.333333          (Tea, Cookies)       2\n",
       "14  0.333333             (Ghee, Tea)       2\n",
       "15  0.333333            (Milk, Soap)       2\n",
       "16  0.333333  (Milk, Soap, Biscuits)       3"
      ]
     },
     "execution_count": 37,
     "metadata": {},
     "output_type": "execute_result"
    }
   ],
   "source": [
    "frequent_itemset"
   ]
  },
  {
   "cell_type": "code",
   "execution_count": 41,
   "id": "062f79c6",
   "metadata": {},
   "outputs": [
    {
     "data": {
      "text/plain": [
       "0     False\n",
       "1     False\n",
       "2     False\n",
       "3     False\n",
       "4     False\n",
       "5     False\n",
       "6     False\n",
       "7     False\n",
       "8     False\n",
       "9      True\n",
       "10     True\n",
       "11     True\n",
       "12     True\n",
       "13     True\n",
       "14     True\n",
       "15     True\n",
       "16    False\n",
       "dtype: bool"
      ]
     },
     "execution_count": 41,
     "metadata": {},
     "output_type": "execute_result"
    }
   ],
   "source": [
    "(frequent_itemset['length'] == 2) & (frequent_itemset['support']>= 0.2)"
   ]
  },
  {
   "cell_type": "code",
   "execution_count": 45,
   "id": "e4ec292e",
   "metadata": {},
   "outputs": [
    {
     "data": {
      "text/html": [
       "<div>\n",
       "<style scoped>\n",
       "    .dataframe tbody tr th:only-of-type {\n",
       "        vertical-align: middle;\n",
       "    }\n",
       "\n",
       "    .dataframe tbody tr th {\n",
       "        vertical-align: top;\n",
       "    }\n",
       "\n",
       "    .dataframe thead th {\n",
       "        text-align: right;\n",
       "    }\n",
       "</style>\n",
       "<table border=\"1\" class=\"dataframe\">\n",
       "  <thead>\n",
       "    <tr style=\"text-align: right;\">\n",
       "      <th></th>\n",
       "      <th>support</th>\n",
       "      <th>itemsets</th>\n",
       "      <th>length</th>\n",
       "    </tr>\n",
       "  </thead>\n",
       "  <tbody>\n",
       "    <tr>\n",
       "      <th>9</th>\n",
       "      <td>0.333333</td>\n",
       "      <td>(Ballpen, Biscuits)</td>\n",
       "      <td>2</td>\n",
       "    </tr>\n",
       "    <tr>\n",
       "      <th>10</th>\n",
       "      <td>0.333333</td>\n",
       "      <td>(Ballpen, Rubber)</td>\n",
       "      <td>2</td>\n",
       "    </tr>\n",
       "    <tr>\n",
       "      <th>11</th>\n",
       "      <td>0.333333</td>\n",
       "      <td>(Milk, Biscuits)</td>\n",
       "      <td>2</td>\n",
       "    </tr>\n",
       "    <tr>\n",
       "      <th>12</th>\n",
       "      <td>0.333333</td>\n",
       "      <td>(Soap, Biscuits)</td>\n",
       "      <td>2</td>\n",
       "    </tr>\n",
       "    <tr>\n",
       "      <th>13</th>\n",
       "      <td>0.333333</td>\n",
       "      <td>(Tea, Cookies)</td>\n",
       "      <td>2</td>\n",
       "    </tr>\n",
       "    <tr>\n",
       "      <th>14</th>\n",
       "      <td>0.333333</td>\n",
       "      <td>(Ghee, Tea)</td>\n",
       "      <td>2</td>\n",
       "    </tr>\n",
       "    <tr>\n",
       "      <th>15</th>\n",
       "      <td>0.333333</td>\n",
       "      <td>(Milk, Soap)</td>\n",
       "      <td>2</td>\n",
       "    </tr>\n",
       "  </tbody>\n",
       "</table>\n",
       "</div>"
      ],
      "text/plain": [
       "     support             itemsets  length\n",
       "9   0.333333  (Ballpen, Biscuits)       2\n",
       "10  0.333333    (Ballpen, Rubber)       2\n",
       "11  0.333333     (Milk, Biscuits)       2\n",
       "12  0.333333     (Soap, Biscuits)       2\n",
       "13  0.333333       (Tea, Cookies)       2\n",
       "14  0.333333          (Ghee, Tea)       2\n",
       "15  0.333333         (Milk, Soap)       2"
      ]
     },
     "execution_count": 45,
     "metadata": {},
     "output_type": "execute_result"
    }
   ],
   "source": [
    "frequent_itemset[(frequent_itemset['length'] == 2) & (frequent_itemset['support'] >= 0.3)]"
   ]
  },
  {
   "cell_type": "code",
   "execution_count": 48,
   "id": "63a6dc0c",
   "metadata": {},
   "outputs": [
    {
     "data": {
      "text/html": [
       "<div>\n",
       "<style scoped>\n",
       "    .dataframe tbody tr th:only-of-type {\n",
       "        vertical-align: middle;\n",
       "    }\n",
       "\n",
       "    .dataframe tbody tr th {\n",
       "        vertical-align: top;\n",
       "    }\n",
       "\n",
       "    .dataframe thead th {\n",
       "        text-align: right;\n",
       "    }\n",
       "</style>\n",
       "<table border=\"1\" class=\"dataframe\">\n",
       "  <thead>\n",
       "    <tr style=\"text-align: right;\">\n",
       "      <th></th>\n",
       "      <th>support</th>\n",
       "      <th>itemsets</th>\n",
       "      <th>length</th>\n",
       "    </tr>\n",
       "  </thead>\n",
       "  <tbody>\n",
       "    <tr>\n",
       "      <th>0</th>\n",
       "      <td>0.5</td>\n",
       "      <td>(Ballpen)</td>\n",
       "      <td>1</td>\n",
       "    </tr>\n",
       "    <tr>\n",
       "      <th>1</th>\n",
       "      <td>0.5</td>\n",
       "      <td>(Biscuits)</td>\n",
       "      <td>1</td>\n",
       "    </tr>\n",
       "    <tr>\n",
       "      <th>7</th>\n",
       "      <td>0.5</td>\n",
       "      <td>(Tea)</td>\n",
       "      <td>1</td>\n",
       "    </tr>\n",
       "  </tbody>\n",
       "</table>\n",
       "</div>"
      ],
      "text/plain": [
       "   support    itemsets  length\n",
       "0      0.5   (Ballpen)       1\n",
       "1      0.5  (Biscuits)       1\n",
       "7      0.5       (Tea)       1"
      ]
     },
     "execution_count": 48,
     "metadata": {},
     "output_type": "execute_result"
    }
   ],
   "source": [
    "frequent_itemset[(frequent_itemset['support'] >= 0.4)]"
   ]
  },
  {
   "cell_type": "code",
   "execution_count": 52,
   "id": "d098dc0b",
   "metadata": {},
   "outputs": [
    {
     "data": {
      "text/html": [
       "<div>\n",
       "<style scoped>\n",
       "    .dataframe tbody tr th:only-of-type {\n",
       "        vertical-align: middle;\n",
       "    }\n",
       "\n",
       "    .dataframe tbody tr th {\n",
       "        vertical-align: top;\n",
       "    }\n",
       "\n",
       "    .dataframe thead th {\n",
       "        text-align: right;\n",
       "    }\n",
       "</style>\n",
       "<table border=\"1\" class=\"dataframe\">\n",
       "  <thead>\n",
       "    <tr style=\"text-align: right;\">\n",
       "      <th></th>\n",
       "      <th>support</th>\n",
       "      <th>itemsets</th>\n",
       "      <th>length</th>\n",
       "    </tr>\n",
       "  </thead>\n",
       "  <tbody>\n",
       "    <tr>\n",
       "      <th>11</th>\n",
       "      <td>0.333333</td>\n",
       "      <td>(Milk, Biscuits)</td>\n",
       "      <td>2</td>\n",
       "    </tr>\n",
       "  </tbody>\n",
       "</table>\n",
       "</div>"
      ],
      "text/plain": [
       "     support          itemsets  length\n",
       "11  0.333333  (Milk, Biscuits)       2"
      ]
     },
     "execution_count": 52,
     "metadata": {},
     "output_type": "execute_result"
    }
   ],
   "source": [
    "frequent_itemset[frequent_itemset['itemsets'] == {'Milk', 'Biscuits'}]"
   ]
  },
  {
   "cell_type": "code",
   "execution_count": 53,
   "id": "64c1c2cb",
   "metadata": {},
   "outputs": [
    {
     "data": {
      "text/html": [
       "<div>\n",
       "<style scoped>\n",
       "    .dataframe tbody tr th:only-of-type {\n",
       "        vertical-align: middle;\n",
       "    }\n",
       "\n",
       "    .dataframe tbody tr th {\n",
       "        vertical-align: top;\n",
       "    }\n",
       "\n",
       "    .dataframe thead th {\n",
       "        text-align: right;\n",
       "    }\n",
       "</style>\n",
       "<table border=\"1\" class=\"dataframe\">\n",
       "  <thead>\n",
       "    <tr style=\"text-align: right;\">\n",
       "      <th></th>\n",
       "      <th>support</th>\n",
       "      <th>itemsets</th>\n",
       "      <th>length</th>\n",
       "    </tr>\n",
       "  </thead>\n",
       "  <tbody>\n",
       "    <tr>\n",
       "      <th>11</th>\n",
       "      <td>0.333333</td>\n",
       "      <td>(Milk, Biscuits)</td>\n",
       "      <td>2</td>\n",
       "    </tr>\n",
       "  </tbody>\n",
       "</table>\n",
       "</div>"
      ],
      "text/plain": [
       "     support          itemsets  length\n",
       "11  0.333333  (Milk, Biscuits)       2"
      ]
     },
     "execution_count": 53,
     "metadata": {},
     "output_type": "execute_result"
    }
   ],
   "source": [
    "frequent_itemset[frequent_itemset['itemsets'] == {'Biscuits','Milk'}]"
   ]
  },
  {
   "cell_type": "code",
   "execution_count": 54,
   "id": "3277f48b",
   "metadata": {},
   "outputs": [
    {
     "data": {
      "text/html": [
       "<div>\n",
       "<style scoped>\n",
       "    .dataframe tbody tr th:only-of-type {\n",
       "        vertical-align: middle;\n",
       "    }\n",
       "\n",
       "    .dataframe tbody tr th {\n",
       "        vertical-align: top;\n",
       "    }\n",
       "\n",
       "    .dataframe thead th {\n",
       "        text-align: right;\n",
       "    }\n",
       "</style>\n",
       "<table border=\"1\" class=\"dataframe\">\n",
       "  <thead>\n",
       "    <tr style=\"text-align: right;\">\n",
       "      <th></th>\n",
       "      <th>support</th>\n",
       "      <th>itemsets</th>\n",
       "      <th>length</th>\n",
       "    </tr>\n",
       "  </thead>\n",
       "  <tbody>\n",
       "    <tr>\n",
       "      <th>11</th>\n",
       "      <td>0.333333</td>\n",
       "      <td>(Milk, Biscuits)</td>\n",
       "      <td>2</td>\n",
       "    </tr>\n",
       "  </tbody>\n",
       "</table>\n",
       "</div>"
      ],
      "text/plain": [
       "     support          itemsets  length\n",
       "11  0.333333  (Milk, Biscuits)       2"
      ]
     },
     "execution_count": 54,
     "metadata": {},
     "output_type": "execute_result"
    }
   ],
   "source": [
    "frequent_itemset[frequent_itemset['itemsets'] == frozenset(('Biscuits','Milk' ))]"
   ]
  },
  {
   "cell_type": "code",
   "execution_count": 55,
   "id": "380db472",
   "metadata": {},
   "outputs": [
    {
     "data": {
      "text/html": [
       "<div>\n",
       "<style scoped>\n",
       "    .dataframe tbody tr th:only-of-type {\n",
       "        vertical-align: middle;\n",
       "    }\n",
       "\n",
       "    .dataframe tbody tr th {\n",
       "        vertical-align: top;\n",
       "    }\n",
       "\n",
       "    .dataframe thead th {\n",
       "        text-align: right;\n",
       "    }\n",
       "</style>\n",
       "<table border=\"1\" class=\"dataframe\">\n",
       "  <thead>\n",
       "    <tr style=\"text-align: right;\">\n",
       "      <th></th>\n",
       "      <th>support</th>\n",
       "      <th>itemsets</th>\n",
       "      <th>length</th>\n",
       "    </tr>\n",
       "  </thead>\n",
       "  <tbody>\n",
       "    <tr>\n",
       "      <th>11</th>\n",
       "      <td>0.333333</td>\n",
       "      <td>(Milk, Biscuits)</td>\n",
       "      <td>2</td>\n",
       "    </tr>\n",
       "  </tbody>\n",
       "</table>\n",
       "</div>"
      ],
      "text/plain": [
       "     support          itemsets  length\n",
       "11  0.333333  (Milk, Biscuits)       2"
      ]
     },
     "execution_count": 55,
     "metadata": {},
     "output_type": "execute_result"
    }
   ],
   "source": [
    "frequent_itemset[frequent_itemset['itemsets'] == frozenset(('Milk', 'Biscuits'))]"
   ]
  },
  {
   "cell_type": "code",
   "execution_count": null,
   "id": "145c04de",
   "metadata": {},
   "outputs": [],
   "source": []
  }
 ],
 "metadata": {
  "kernelspec": {
   "display_name": "Python 3 (ipykernel)",
   "language": "python",
   "name": "python3"
  },
  "language_info": {
   "codemirror_mode": {
    "name": "ipython",
    "version": 3
   },
   "file_extension": ".py",
   "mimetype": "text/x-python",
   "name": "python",
   "nbconvert_exporter": "python",
   "pygments_lexer": "ipython3",
   "version": "3.9.12"
  }
 },
 "nbformat": 4,
 "nbformat_minor": 5
}
