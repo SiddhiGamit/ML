{
 "cells": [
  {
   "cell_type": "code",
   "execution_count": 1,
   "id": "07e8686d",
   "metadata": {},
   "outputs": [],
   "source": [
    "from sklearn.datasets import load_boston"
   ]
  },
  {
   "cell_type": "code",
   "execution_count": 2,
   "id": "7e8a193a",
   "metadata": {},
   "outputs": [],
   "source": [
    "import pandas as pd\n",
    "import numpy as np"
   ]
  },
  {
   "cell_type": "code",
   "execution_count": 3,
   "id": "a25a22c6",
   "metadata": {},
   "outputs": [],
   "source": [
    "import warnings\n",
    "warnings.filterwarnings('ignore')"
   ]
  },
  {
   "cell_type": "code",
   "execution_count": 4,
   "id": "04a210a5",
   "metadata": {},
   "outputs": [],
   "source": [
    " df = load_boston()"
   ]
  },
  {
   "cell_type": "code",
   "execution_count": 5,
   "id": "1de3ea39",
   "metadata": {},
   "outputs": [],
   "source": [
    "X = df.data"
   ]
  },
  {
   "cell_type": "code",
   "execution_count": 6,
   "id": "612bae73",
   "metadata": {},
   "outputs": [
    {
     "data": {
      "text/plain": [
       "array([[6.3200e-03, 1.8000e+01, 2.3100e+00, ..., 1.5300e+01, 3.9690e+02,\n",
       "        4.9800e+00],\n",
       "       [2.7310e-02, 0.0000e+00, 7.0700e+00, ..., 1.7800e+01, 3.9690e+02,\n",
       "        9.1400e+00],\n",
       "       [2.7290e-02, 0.0000e+00, 7.0700e+00, ..., 1.7800e+01, 3.9283e+02,\n",
       "        4.0300e+00],\n",
       "       ...,\n",
       "       [6.0760e-02, 0.0000e+00, 1.1930e+01, ..., 2.1000e+01, 3.9690e+02,\n",
       "        5.6400e+00],\n",
       "       [1.0959e-01, 0.0000e+00, 1.1930e+01, ..., 2.1000e+01, 3.9345e+02,\n",
       "        6.4800e+00],\n",
       "       [4.7410e-02, 0.0000e+00, 1.1930e+01, ..., 2.1000e+01, 3.9690e+02,\n",
       "        7.8800e+00]])"
      ]
     },
     "execution_count": 6,
     "metadata": {},
     "output_type": "execute_result"
    }
   ],
   "source": [
    "X"
   ]
  },
  {
   "cell_type": "code",
   "execution_count": 7,
   "id": "25c77321",
   "metadata": {},
   "outputs": [
    {
     "data": {
      "text/plain": [
       "array(['CRIM', 'ZN', 'INDUS', 'CHAS', 'NOX', 'RM', 'AGE', 'DIS', 'RAD',\n",
       "       'TAX', 'PTRATIO', 'B', 'LSTAT'], dtype='<U7')"
      ]
     },
     "execution_count": 7,
     "metadata": {},
     "output_type": "execute_result"
    }
   ],
   "source": [
    "df.feature_names"
   ]
  },
  {
   "cell_type": "code",
   "execution_count": 8,
   "id": "27f9f05d",
   "metadata": {},
   "outputs": [],
   "source": [
    "y = df.target"
   ]
  },
  {
   "cell_type": "code",
   "execution_count": 9,
   "id": "e945c72c",
   "metadata": {},
   "outputs": [
    {
     "data": {
      "text/plain": [
       "array([24. , 21.6, 34.7, 33.4, 36.2, 28.7, 22.9, 27.1, 16.5, 18.9, 15. ,\n",
       "       18.9, 21.7, 20.4, 18.2, 19.9, 23.1, 17.5, 20.2, 18.2, 13.6, 19.6,\n",
       "       15.2, 14.5, 15.6, 13.9, 16.6, 14.8, 18.4, 21. , 12.7, 14.5, 13.2,\n",
       "       13.1, 13.5, 18.9, 20. , 21. , 24.7, 30.8, 34.9, 26.6, 25.3, 24.7,\n",
       "       21.2, 19.3, 20. , 16.6, 14.4, 19.4, 19.7, 20.5, 25. , 23.4, 18.9,\n",
       "       35.4, 24.7, 31.6, 23.3, 19.6, 18.7, 16. , 22.2, 25. , 33. , 23.5,\n",
       "       19.4, 22. , 17.4, 20.9, 24.2, 21.7, 22.8, 23.4, 24.1, 21.4, 20. ,\n",
       "       20.8, 21.2, 20.3, 28. , 23.9, 24.8, 22.9, 23.9, 26.6, 22.5, 22.2,\n",
       "       23.6, 28.7, 22.6, 22. , 22.9, 25. , 20.6, 28.4, 21.4, 38.7, 43.8,\n",
       "       33.2, 27.5, 26.5, 18.6, 19.3, 20.1, 19.5, 19.5, 20.4, 19.8, 19.4,\n",
       "       21.7, 22.8, 18.8, 18.7, 18.5, 18.3, 21.2, 19.2, 20.4, 19.3, 22. ,\n",
       "       20.3, 20.5, 17.3, 18.8, 21.4, 15.7, 16.2, 18. , 14.3, 19.2, 19.6,\n",
       "       23. , 18.4, 15.6, 18.1, 17.4, 17.1, 13.3, 17.8, 14. , 14.4, 13.4,\n",
       "       15.6, 11.8, 13.8, 15.6, 14.6, 17.8, 15.4, 21.5, 19.6, 15.3, 19.4,\n",
       "       17. , 15.6, 13.1, 41.3, 24.3, 23.3, 27. , 50. , 50. , 50. , 22.7,\n",
       "       25. , 50. , 23.8, 23.8, 22.3, 17.4, 19.1, 23.1, 23.6, 22.6, 29.4,\n",
       "       23.2, 24.6, 29.9, 37.2, 39.8, 36.2, 37.9, 32.5, 26.4, 29.6, 50. ,\n",
       "       32. , 29.8, 34.9, 37. , 30.5, 36.4, 31.1, 29.1, 50. , 33.3, 30.3,\n",
       "       34.6, 34.9, 32.9, 24.1, 42.3, 48.5, 50. , 22.6, 24.4, 22.5, 24.4,\n",
       "       20. , 21.7, 19.3, 22.4, 28.1, 23.7, 25. , 23.3, 28.7, 21.5, 23. ,\n",
       "       26.7, 21.7, 27.5, 30.1, 44.8, 50. , 37.6, 31.6, 46.7, 31.5, 24.3,\n",
       "       31.7, 41.7, 48.3, 29. , 24. , 25.1, 31.5, 23.7, 23.3, 22. , 20.1,\n",
       "       22.2, 23.7, 17.6, 18.5, 24.3, 20.5, 24.5, 26.2, 24.4, 24.8, 29.6,\n",
       "       42.8, 21.9, 20.9, 44. , 50. , 36. , 30.1, 33.8, 43.1, 48.8, 31. ,\n",
       "       36.5, 22.8, 30.7, 50. , 43.5, 20.7, 21.1, 25.2, 24.4, 35.2, 32.4,\n",
       "       32. , 33.2, 33.1, 29.1, 35.1, 45.4, 35.4, 46. , 50. , 32.2, 22. ,\n",
       "       20.1, 23.2, 22.3, 24.8, 28.5, 37.3, 27.9, 23.9, 21.7, 28.6, 27.1,\n",
       "       20.3, 22.5, 29. , 24.8, 22. , 26.4, 33.1, 36.1, 28.4, 33.4, 28.2,\n",
       "       22.8, 20.3, 16.1, 22.1, 19.4, 21.6, 23.8, 16.2, 17.8, 19.8, 23.1,\n",
       "       21. , 23.8, 23.1, 20.4, 18.5, 25. , 24.6, 23. , 22.2, 19.3, 22.6,\n",
       "       19.8, 17.1, 19.4, 22.2, 20.7, 21.1, 19.5, 18.5, 20.6, 19. , 18.7,\n",
       "       32.7, 16.5, 23.9, 31.2, 17.5, 17.2, 23.1, 24.5, 26.6, 22.9, 24.1,\n",
       "       18.6, 30.1, 18.2, 20.6, 17.8, 21.7, 22.7, 22.6, 25. , 19.9, 20.8,\n",
       "       16.8, 21.9, 27.5, 21.9, 23.1, 50. , 50. , 50. , 50. , 50. , 13.8,\n",
       "       13.8, 15. , 13.9, 13.3, 13.1, 10.2, 10.4, 10.9, 11.3, 12.3,  8.8,\n",
       "        7.2, 10.5,  7.4, 10.2, 11.5, 15.1, 23.2,  9.7, 13.8, 12.7, 13.1,\n",
       "       12.5,  8.5,  5. ,  6.3,  5.6,  7.2, 12.1,  8.3,  8.5,  5. , 11.9,\n",
       "       27.9, 17.2, 27.5, 15. , 17.2, 17.9, 16.3,  7. ,  7.2,  7.5, 10.4,\n",
       "        8.8,  8.4, 16.7, 14.2, 20.8, 13.4, 11.7,  8.3, 10.2, 10.9, 11. ,\n",
       "        9.5, 14.5, 14.1, 16.1, 14.3, 11.7, 13.4,  9.6,  8.7,  8.4, 12.8,\n",
       "       10.5, 17.1, 18.4, 15.4, 10.8, 11.8, 14.9, 12.6, 14.1, 13. , 13.4,\n",
       "       15.2, 16.1, 17.8, 14.9, 14.1, 12.7, 13.5, 14.9, 20. , 16.4, 17.7,\n",
       "       19.5, 20.2, 21.4, 19.9, 19. , 19.1, 19.1, 20.1, 19.9, 19.6, 23.2,\n",
       "       29.8, 13.8, 13.3, 16.7, 12. , 14.6, 21.4, 23. , 23.7, 25. , 21.8,\n",
       "       20.6, 21.2, 19.1, 20.6, 15.2,  7. ,  8.1, 13.6, 20.1, 21.8, 24.5,\n",
       "       23.1, 19.7, 18.3, 21.2, 17.5, 16.8, 22.4, 20.6, 23.9, 22. , 11.9])"
      ]
     },
     "execution_count": 9,
     "metadata": {},
     "output_type": "execute_result"
    }
   ],
   "source": [
    "y"
   ]
  },
  {
   "cell_type": "code",
   "execution_count": 10,
   "id": "a3396ab9",
   "metadata": {},
   "outputs": [],
   "source": [
    "from sklearn.model_selection import train_test_split"
   ]
  },
  {
   "cell_type": "code",
   "execution_count": 11,
   "id": "38b13c7f",
   "metadata": {},
   "outputs": [],
   "source": [
    "X_train, X_test, y_train, y_test = train_test_split(X, y, test_size = 0.20, random_state = 42)"
   ]
  },
  {
   "cell_type": "code",
   "execution_count": 12,
   "id": "5aceef4a",
   "metadata": {},
   "outputs": [],
   "source": [
    "from sklearn.ensemble import AdaBoostRegressor"
   ]
  },
  {
   "cell_type": "code",
   "execution_count": 13,
   "id": "2dca35ec",
   "metadata": {},
   "outputs": [],
   "source": [
    "ada = AdaBoostRegressor(base_estimator=None,\n",
    "                        n_estimators=20,\n",
    "                        learning_rate=0.7,\n",
    "                        loss='linear')"
   ]
  },
  {
   "cell_type": "code",
   "execution_count": 14,
   "id": "d8db96de",
   "metadata": {},
   "outputs": [
    {
     "data": {
      "text/plain": [
       "AdaBoostRegressor(learning_rate=0.7, n_estimators=20)"
      ]
     },
     "execution_count": 14,
     "metadata": {},
     "output_type": "execute_result"
    }
   ],
   "source": [
    "ada.fit(X_train, y_train)"
   ]
  },
  {
   "cell_type": "code",
   "execution_count": 15,
   "id": "31088026",
   "metadata": {},
   "outputs": [],
   "source": [
    "y_pred = ada.predict(X_test)"
   ]
  },
  {
   "cell_type": "code",
   "execution_count": 16,
   "id": "4c30af10",
   "metadata": {},
   "outputs": [
    {
     "data": {
      "text/plain": [
       "array([25.02771084, 26.98      , 17.27682927, 25.46870229, 17.07238494,\n",
       "       21.34460432, 19.378     , 15.98534483, 20.49459459, 20.42881356,\n",
       "       19.378     , 19.378     , 12.26590909, 21.34460432, 20.42881356,\n",
       "       21.34460432, 19.378     , 12.29620253, 43.825     , 16.68214286,\n",
       "       25.46870229, 25.46870229, 17.07238494, 25.15333333, 16.26818182,\n",
       "       18.275     , 22.88549223, 15.98534483, 19.378     , 20.42881356,\n",
       "       20.19411765, 25.46870229, 20.72857143, 19.78395062, 17.07238494,\n",
       "       17.07238494, 36.321875  , 21.83947368, 19.78395062, 25.15333333,\n",
       "       17.22488038, 27.84      , 43.825     , 20.42881356, 25.02771084,\n",
       "       16.26818182, 18.67276596, 25.46870229, 19.378     , 26.41719745,\n",
       "       20.49459459, 29.77102804, 19.378     , 26.00416667, 45.00606061,\n",
       "       20.49459459, 16.68214286, 28.55322581, 25.15333333, 19.12190476,\n",
       "       25.46870229, 34.27333333, 26.98      , 20.42881356, 26.52280702,\n",
       "       17.22488038, 16.68214286, 25.46870229, 26.98      , 16.26818182,\n",
       "       21.34460432, 25.85954198, 12.29620253, 25.46870229, 21.04605263,\n",
       "       12.26590909, 20.49459459, 43.825     , 12.44920635, 15.09213483,\n",
       "       21.93414634, 17.07238494, 22.88549223, 12.29620253, 20.49459459,\n",
       "       25.46870229, 17.22488038, 25.46870229, 25.46870229, 18.67276596,\n",
       "       21.1       , 12.26590909, 20.42881356, 20.49459459, 25.15333333,\n",
       "       20.42881356, 28.44179104, 15.39774436, 15.98534483, 17.07238494,\n",
       "       21.34460432, 23.14776119])"
      ]
     },
     "execution_count": 16,
     "metadata": {},
     "output_type": "execute_result"
    }
   ],
   "source": [
    "y_pred"
   ]
  },
  {
   "cell_type": "code",
   "execution_count": 17,
   "id": "a1604c80",
   "metadata": {},
   "outputs": [],
   "source": [
    "from sklearn.metrics import mean_squared_error"
   ]
  },
  {
   "cell_type": "code",
   "execution_count": 18,
   "id": "d5cbeaa1",
   "metadata": {},
   "outputs": [],
   "source": [
    "mse = mean_squared_error(y_test, y_pred)"
   ]
  },
  {
   "cell_type": "code",
   "execution_count": 19,
   "id": "870e5ff8",
   "metadata": {},
   "outputs": [
    {
     "data": {
      "text/plain": [
       "13.616296507911352"
      ]
     },
     "execution_count": 19,
     "metadata": {},
     "output_type": "execute_result"
    }
   ],
   "source": [
    "mse"
   ]
  },
  {
   "cell_type": "markdown",
   "id": "624b93b5",
   "metadata": {},
   "source": [
    "## Different Estimator"
   ]
  },
  {
   "cell_type": "code",
   "execution_count": 20,
   "id": "92406344",
   "metadata": {},
   "outputs": [],
   "source": [
    "from sklearn.linear_model import LinearRegression\n",
    "from sklearn.ensemble import AdaBoostRegressor"
   ]
  },
  {
   "cell_type": "code",
   "execution_count": 21,
   "id": "18a4a2cd",
   "metadata": {},
   "outputs": [],
   "source": [
    "lr = LinearRegression()\n",
    "ada = AdaBoostRegressor(base_estimator=lr,\n",
    "                        n_estimators=20,\n",
    "                        learning_rate=0.7,\n",
    "                        loss='linear')"
   ]
  },
  {
   "cell_type": "code",
   "execution_count": 22,
   "id": "9b4f7fa4",
   "metadata": {},
   "outputs": [
    {
     "data": {
      "text/plain": [
       "AdaBoostRegressor(base_estimator=LinearRegression(), learning_rate=0.7,\n",
       "                  n_estimators=20)"
      ]
     },
     "execution_count": 22,
     "metadata": {},
     "output_type": "execute_result"
    }
   ],
   "source": [
    "ada.fit(X_train, y_train)"
   ]
  },
  {
   "cell_type": "code",
   "execution_count": 23,
   "id": "9bcc2b91",
   "metadata": {},
   "outputs": [],
   "source": [
    "y_pred = ada.predict(X_test)"
   ]
  },
  {
   "cell_type": "code",
   "execution_count": 24,
   "id": "76136dbe",
   "metadata": {},
   "outputs": [
    {
     "data": {
      "text/plain": [
       "array([30.70006198, 39.73283421, 14.39713398, 27.19124134, 20.01496595,\n",
       "       23.88297324, 17.42850862, 12.82467591, 28.47225844, 21.51001704,\n",
       "       26.79166591, 18.11071447, -6.60767231, 22.30111047, 20.81580964,\n",
       "       28.20494366, 20.40891593,  6.70664344, 40.56584713, 19.11551318,\n",
       "       28.13337623, 30.79558151, 10.07265926, 23.51243985, 20.82923921,\n",
       "       20.58273517, 25.27224683, 13.96166976, 24.87600195, 20.37940665,\n",
       "       24.25342938, 26.47903802, 25.39801981, 23.29300306, 18.89895324,\n",
       "       16.6827961 , 31.66279958, 20.6597787 , 25.08730544, 25.24680055,\n",
       "       14.58923649, 34.07540492, 42.37212702, 18.50360536, 28.59508498,\n",
       "       20.8542886 , 14.26629274, 26.23934552, 23.75631816, 30.76104775,\n",
       "       22.3330788 , 34.90403323, 15.27813602, 26.01887235, 39.9094873 ,\n",
       "       26.35133519, 20.77544326, 33.04919941, 25.43741635, 13.08624843,\n",
       "       21.98199824, 29.78285193, 33.85474588, 17.12475186, 19.8655316 ,\n",
       "       18.95692118, 22.03209812, 27.6881244 , 31.26723986, 12.30952176,\n",
       "       20.72297335, 32.47825375, 11.09894151, 15.82434996, 25.41786461,\n",
       "        5.54481661, 22.02476594, 41.1508355 , 18.25695491,  8.68327716,\n",
       "       22.69631679, 14.87401732, 21.44057618, 11.66123925, 24.23038343,\n",
       "       35.84002945, 18.74186243, 26.7596717 , 30.46343056, 19.00515259,\n",
       "       27.2008151 ,  5.61092621, 19.97650809, 15.02912487, 21.24764131,\n",
       "       20.81820194, 29.90624746,  0.14981328, 12.97617   , 15.6204658 ,\n",
       "       22.5688477 , 25.95448688])"
      ]
     },
     "execution_count": 24,
     "metadata": {},
     "output_type": "execute_result"
    }
   ],
   "source": [
    "y_pred"
   ]
  },
  {
   "cell_type": "code",
   "execution_count": 25,
   "id": "e0d649cb",
   "metadata": {},
   "outputs": [],
   "source": [
    "mse = mean_squared_error(y_test, y_pred)"
   ]
  },
  {
   "cell_type": "code",
   "execution_count": 26,
   "id": "2ec618fc",
   "metadata": {},
   "outputs": [
    {
     "name": "stdout",
     "output_type": "stream",
     "text": [
      "25.82370597105754\n"
     ]
    }
   ],
   "source": [
    "print(mse)"
   ]
  },
  {
   "cell_type": "code",
   "execution_count": 27,
   "id": "587befb7",
   "metadata": {},
   "outputs": [],
   "source": [
    "from sklearn.svm import SVR"
   ]
  },
  {
   "cell_type": "code",
   "execution_count": 28,
   "id": "18e3fda7",
   "metadata": {},
   "outputs": [],
   "source": [
    "svr=SVR()"
   ]
  },
  {
   "cell_type": "code",
   "execution_count": 29,
   "id": "2b408bfa",
   "metadata": {},
   "outputs": [],
   "source": [
    "ada = AdaBoostRegressor(base_estimator=svr,\n",
    "                        n_estimators=20,\n",
    "                        learning_rate=0.7,\n",
    "                        loss='linear')"
   ]
  },
  {
   "cell_type": "code",
   "execution_count": 30,
   "id": "5f8e668d",
   "metadata": {},
   "outputs": [
    {
     "data": {
      "text/plain": [
       "AdaBoostRegressor(base_estimator=SVR(), learning_rate=0.7, n_estimators=20)"
      ]
     },
     "execution_count": 30,
     "metadata": {},
     "output_type": "execute_result"
    }
   ],
   "source": [
    "ada.fit(X_train, y_train)"
   ]
  },
  {
   "cell_type": "code",
   "execution_count": 31,
   "id": "c311fc77",
   "metadata": {},
   "outputs": [],
   "source": [
    "y_pred = ada.predict(X_test)"
   ]
  },
  {
   "cell_type": "code",
   "execution_count": 32,
   "id": "926a67e3",
   "metadata": {},
   "outputs": [
    {
     "data": {
      "text/plain": [
       "array([23.00631808, 25.19265988, 16.93488184, 23.91433713, 17.31269415,\n",
       "       21.05609357, 22.67886723, 20.09710716, 17.46970452, 21.28337259,\n",
       "       23.16700305, 22.62996546, 13.75267697, 21.58620386, 23.26634425,\n",
       "       17.6218173 , 24.55961729, 16.91341128, 25.63554661, 17.29585297,\n",
       "       25.6730416 , 25.17143188, 22.05383773, 23.64453409, 16.59221871,\n",
       "       16.9120801 , 22.03347257, 13.46043641, 23.15293675, 21.4613546 ,\n",
       "       22.89552783, 23.7067483 , 17.2990946 , 17.27441172, 16.69112388,\n",
       "       19.02660356, 24.46332418, 24.98712288, 23.5730921 , 23.77505965,\n",
       "       21.34609275, 25.1367403 , 26.26471418, 22.93603186, 23.80544229,\n",
       "       17.31714451, 22.06308796, 23.84699542, 17.55170755, 23.60208808,\n",
       "       22.82166415, 25.52397063, 22.53526015, 21.60266481, 24.43333937,\n",
       "       18.00702321, 17.29663168, 25.8604532 , 24.55659377, 22.59317027,\n",
       "       24.20758262, 26.3420106 , 23.61203661, 22.12047377, 22.3921262 ,\n",
       "       23.0055451 , 17.25973207, 24.46818143, 25.75502824, 13.55171348,\n",
       "       24.96362322, 17.71910094, 15.57829908, 24.06062606, 21.76056026,\n",
       "       17.03423121, 21.16443027, 26.25971252, 17.23309609, 16.45649325,\n",
       "       23.04668545, 16.40241826, 24.55188092, 17.2438075 , 22.68228673,\n",
       "       22.6581545 , 15.93817954, 23.8979748 , 24.72769414, 20.16287329,\n",
       "       23.5502806 , 14.35734933, 20.22463429, 22.0730795 , 17.155254  ,\n",
       "       20.1207069 , 17.05313534, 13.41739445, 13.5784978 , 13.54793422,\n",
       "       24.55998501, 21.7508147 ])"
      ]
     },
     "execution_count": 32,
     "metadata": {},
     "output_type": "execute_result"
    }
   ],
   "source": [
    "y_pred"
   ]
  },
  {
   "cell_type": "code",
   "execution_count": 33,
   "id": "e2b6b752",
   "metadata": {},
   "outputs": [],
   "source": [
    "mse = mean_squared_error(y_test, y_pred)"
   ]
  },
  {
   "cell_type": "code",
   "execution_count": 34,
   "id": "e6e57813",
   "metadata": {},
   "outputs": [
    {
     "data": {
      "text/plain": [
       "50.545537808821024"
      ]
     },
     "execution_count": 34,
     "metadata": {},
     "output_type": "execute_result"
    }
   ],
   "source": [
    "mse"
   ]
  },
  {
   "cell_type": "markdown",
   "id": "3adf2a74",
   "metadata": {},
   "source": [
    "# Conclusion"
   ]
  },
  {
   "cell_type": "markdown",
   "id": "d5c8cfdb",
   "metadata": {},
   "source": [
    "- MSE of AdaBoost is 13.285184745258613.\n",
    "- MSE of Linear Regression is 24.434137371116528.\n",
    "- MSE of Support Vector Regressor is 52.16083097903864.\n",
    "- Choosig AdaBoost algorithm for this dataset, because the smaller the mean squared error, the closer to finding the line of best fit.\n"
   ]
  },
  {
   "cell_type": "markdown",
   "id": "787982af",
   "metadata": {},
   "source": [
    "# Choosing optimal Hyperparameters for tree"
   ]
  },
  {
   "cell_type": "markdown",
   "id": "d11c4c04",
   "metadata": {},
   "source": [
    "# Grid Search"
   ]
  },
  {
   "cell_type": "code",
   "execution_count": 35,
   "id": "08dcf18c",
   "metadata": {},
   "outputs": [],
   "source": [
    "from sklearn.model_selection import GridSearchCV"
   ]
  },
  {
   "cell_type": "code",
   "execution_count": 36,
   "id": "6ef187ea",
   "metadata": {},
   "outputs": [],
   "source": [
    "# dictionary of hyperparameters as key value to be tried\n",
    "\n",
    "dict = {\n",
    "    'n_estimators' : [10000,50,100,500],\n",
    "    'learning_rate' : [0.001,0.01,0.1,1.0]\n",
    "   \n",
    "}"
   ]
  },
  {
   "cell_type": "code",
   "execution_count": 37,
   "id": "550ab77d",
   "metadata": {},
   "outputs": [
    {
     "data": {
      "text/plain": [
       "{'n_estimators': [10000, 50, 100, 500],\n",
       " 'learning_rate': [0.001, 0.01, 0.1, 1.0]}"
      ]
     },
     "execution_count": 37,
     "metadata": {},
     "output_type": "execute_result"
    }
   ],
   "source": [
    "dict"
   ]
  },
  {
   "cell_type": "code",
   "execution_count": 38,
   "id": "8a06eced",
   "metadata": {},
   "outputs": [],
   "source": [
    "# Instance of AdaBoost\n",
    "ada = AdaBoostRegressor()"
   ]
  },
  {
   "cell_type": "code",
   "execution_count": 39,
   "id": "9e7bb010",
   "metadata": {},
   "outputs": [],
   "source": [
    "# Instance of GridSearchCV\n",
    "GS = GridSearchCV(estimator=ada, param_grid=dict, cv=4, n_jobs=-1, verbose=1, scoring='accuracy')\n"
   ]
  },
  {
   "cell_type": "code",
   "execution_count": 40,
   "id": "747fbb0a",
   "metadata": {},
   "outputs": [
    {
     "name": "stdout",
     "output_type": "stream",
     "text": [
      "Fitting 4 folds for each of 16 candidates, totalling 64 fits\n"
     ]
    },
    {
     "data": {
      "text/plain": [
       "GridSearchCV(cv=4, estimator=AdaBoostRegressor(), n_jobs=-1,\n",
       "             param_grid={'learning_rate': [0.001, 0.01, 0.1, 1.0],\n",
       "                         'n_estimators': [10000, 50, 100, 500]},\n",
       "             scoring='accuracy', verbose=1)"
      ]
     },
     "execution_count": 40,
     "metadata": {},
     "output_type": "execute_result"
    }
   ],
   "source": [
    "GS.fit(X_train,y_train)"
   ]
  },
  {
   "cell_type": "code",
   "execution_count": 41,
   "id": "354e3e42",
   "metadata": {},
   "outputs": [
    {
     "data": {
      "text/plain": [
       "AdaBoostRegressor(learning_rate=0.001, n_estimators=10000)"
      ]
     },
     "execution_count": 41,
     "metadata": {},
     "output_type": "execute_result"
    }
   ],
   "source": [
    "# best Estimator og GridSearch\n",
    "GS.best_estimator_"
   ]
  },
  {
   "cell_type": "code",
   "execution_count": 42,
   "id": "866eb5af",
   "metadata": {},
   "outputs": [],
   "source": [
    "# Best Estimator of Decision Tree\n",
    "DTC_best = GS.best_estimator_"
   ]
  },
  {
   "cell_type": "code",
   "execution_count": 43,
   "id": "fa67865b",
   "metadata": {},
   "outputs": [
    {
     "data": {
      "text/plain": [
       "{'learning_rate': 0.001, 'n_estimators': 10000}"
      ]
     },
     "execution_count": 43,
     "metadata": {},
     "output_type": "execute_result"
    }
   ],
   "source": [
    "GS.best_params_"
   ]
  },
  {
   "cell_type": "markdown",
   "id": "92d3c2e2",
   "metadata": {},
   "source": [
    "# Random SearchCV"
   ]
  },
  {
   "cell_type": "code",
   "execution_count": null,
   "id": "b3b3e64b",
   "metadata": {},
   "outputs": [],
   "source": []
  }
 ],
 "metadata": {
  "kernelspec": {
   "display_name": "Python 3 (ipykernel)",
   "language": "python",
   "name": "python3"
  },
  "language_info": {
   "codemirror_mode": {
    "name": "ipython",
    "version": 3
   },
   "file_extension": ".py",
   "mimetype": "text/x-python",
   "name": "python",
   "nbconvert_exporter": "python",
   "pygments_lexer": "ipython3",
   "version": "3.9.12"
  }
 },
 "nbformat": 4,
 "nbformat_minor": 5
}
