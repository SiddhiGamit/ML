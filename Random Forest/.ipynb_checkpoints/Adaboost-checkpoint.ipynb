{
 "cells": [
  {
   "cell_type": "code",
   "execution_count": 1,
   "id": "07e8686d",
   "metadata": {},
   "outputs": [],
   "source": [
    "from sklearn.datasets import load_boston"
   ]
  },
  {
   "cell_type": "code",
   "execution_count": 2,
   "id": "7e8a193a",
   "metadata": {},
   "outputs": [],
   "source": [
    "import pandas as pd\n",
    "import numpy as np"
   ]
  },
  {
   "cell_type": "code",
   "execution_count": 3,
   "id": "a25a22c6",
   "metadata": {},
   "outputs": [],
   "source": [
    "import warnings\n",
    "warnings.filterwarnings('ignore')"
   ]
  },
  {
   "cell_type": "code",
   "execution_count": 4,
   "id": "04a210a5",
   "metadata": {},
   "outputs": [],
   "source": [
    " df = load_boston()"
   ]
  },
  {
   "cell_type": "code",
   "execution_count": 5,
   "id": "1de3ea39",
   "metadata": {},
   "outputs": [],
   "source": [
    "X = df.data"
   ]
  },
  {
   "cell_type": "code",
   "execution_count": 6,
   "id": "612bae73",
   "metadata": {},
   "outputs": [
    {
     "data": {
      "text/plain": [
       "array([[6.3200e-03, 1.8000e+01, 2.3100e+00, ..., 1.5300e+01, 3.9690e+02,\n",
       "        4.9800e+00],\n",
       "       [2.7310e-02, 0.0000e+00, 7.0700e+00, ..., 1.7800e+01, 3.9690e+02,\n",
       "        9.1400e+00],\n",
       "       [2.7290e-02, 0.0000e+00, 7.0700e+00, ..., 1.7800e+01, 3.9283e+02,\n",
       "        4.0300e+00],\n",
       "       ...,\n",
       "       [6.0760e-02, 0.0000e+00, 1.1930e+01, ..., 2.1000e+01, 3.9690e+02,\n",
       "        5.6400e+00],\n",
       "       [1.0959e-01, 0.0000e+00, 1.1930e+01, ..., 2.1000e+01, 3.9345e+02,\n",
       "        6.4800e+00],\n",
       "       [4.7410e-02, 0.0000e+00, 1.1930e+01, ..., 2.1000e+01, 3.9690e+02,\n",
       "        7.8800e+00]])"
      ]
     },
     "execution_count": 6,
     "metadata": {},
     "output_type": "execute_result"
    }
   ],
   "source": [
    "X"
   ]
  },
  {
   "cell_type": "code",
   "execution_count": 7,
   "id": "25c77321",
   "metadata": {},
   "outputs": [
    {
     "data": {
      "text/plain": [
       "array(['CRIM', 'ZN', 'INDUS', 'CHAS', 'NOX', 'RM', 'AGE', 'DIS', 'RAD',\n",
       "       'TAX', 'PTRATIO', 'B', 'LSTAT'], dtype='<U7')"
      ]
     },
     "execution_count": 7,
     "metadata": {},
     "output_type": "execute_result"
    }
   ],
   "source": [
    "df.feature_names"
   ]
  },
  {
   "cell_type": "code",
   "execution_count": 8,
   "id": "27f9f05d",
   "metadata": {},
   "outputs": [],
   "source": [
    "y = df.target"
   ]
  },
  {
   "cell_type": "code",
   "execution_count": 9,
   "id": "e945c72c",
   "metadata": {},
   "outputs": [
    {
     "data": {
      "text/plain": [
       "array([24. , 21.6, 34.7, 33.4, 36.2, 28.7, 22.9, 27.1, 16.5, 18.9, 15. ,\n",
       "       18.9, 21.7, 20.4, 18.2, 19.9, 23.1, 17.5, 20.2, 18.2, 13.6, 19.6,\n",
       "       15.2, 14.5, 15.6, 13.9, 16.6, 14.8, 18.4, 21. , 12.7, 14.5, 13.2,\n",
       "       13.1, 13.5, 18.9, 20. , 21. , 24.7, 30.8, 34.9, 26.6, 25.3, 24.7,\n",
       "       21.2, 19.3, 20. , 16.6, 14.4, 19.4, 19.7, 20.5, 25. , 23.4, 18.9,\n",
       "       35.4, 24.7, 31.6, 23.3, 19.6, 18.7, 16. , 22.2, 25. , 33. , 23.5,\n",
       "       19.4, 22. , 17.4, 20.9, 24.2, 21.7, 22.8, 23.4, 24.1, 21.4, 20. ,\n",
       "       20.8, 21.2, 20.3, 28. , 23.9, 24.8, 22.9, 23.9, 26.6, 22.5, 22.2,\n",
       "       23.6, 28.7, 22.6, 22. , 22.9, 25. , 20.6, 28.4, 21.4, 38.7, 43.8,\n",
       "       33.2, 27.5, 26.5, 18.6, 19.3, 20.1, 19.5, 19.5, 20.4, 19.8, 19.4,\n",
       "       21.7, 22.8, 18.8, 18.7, 18.5, 18.3, 21.2, 19.2, 20.4, 19.3, 22. ,\n",
       "       20.3, 20.5, 17.3, 18.8, 21.4, 15.7, 16.2, 18. , 14.3, 19.2, 19.6,\n",
       "       23. , 18.4, 15.6, 18.1, 17.4, 17.1, 13.3, 17.8, 14. , 14.4, 13.4,\n",
       "       15.6, 11.8, 13.8, 15.6, 14.6, 17.8, 15.4, 21.5, 19.6, 15.3, 19.4,\n",
       "       17. , 15.6, 13.1, 41.3, 24.3, 23.3, 27. , 50. , 50. , 50. , 22.7,\n",
       "       25. , 50. , 23.8, 23.8, 22.3, 17.4, 19.1, 23.1, 23.6, 22.6, 29.4,\n",
       "       23.2, 24.6, 29.9, 37.2, 39.8, 36.2, 37.9, 32.5, 26.4, 29.6, 50. ,\n",
       "       32. , 29.8, 34.9, 37. , 30.5, 36.4, 31.1, 29.1, 50. , 33.3, 30.3,\n",
       "       34.6, 34.9, 32.9, 24.1, 42.3, 48.5, 50. , 22.6, 24.4, 22.5, 24.4,\n",
       "       20. , 21.7, 19.3, 22.4, 28.1, 23.7, 25. , 23.3, 28.7, 21.5, 23. ,\n",
       "       26.7, 21.7, 27.5, 30.1, 44.8, 50. , 37.6, 31.6, 46.7, 31.5, 24.3,\n",
       "       31.7, 41.7, 48.3, 29. , 24. , 25.1, 31.5, 23.7, 23.3, 22. , 20.1,\n",
       "       22.2, 23.7, 17.6, 18.5, 24.3, 20.5, 24.5, 26.2, 24.4, 24.8, 29.6,\n",
       "       42.8, 21.9, 20.9, 44. , 50. , 36. , 30.1, 33.8, 43.1, 48.8, 31. ,\n",
       "       36.5, 22.8, 30.7, 50. , 43.5, 20.7, 21.1, 25.2, 24.4, 35.2, 32.4,\n",
       "       32. , 33.2, 33.1, 29.1, 35.1, 45.4, 35.4, 46. , 50. , 32.2, 22. ,\n",
       "       20.1, 23.2, 22.3, 24.8, 28.5, 37.3, 27.9, 23.9, 21.7, 28.6, 27.1,\n",
       "       20.3, 22.5, 29. , 24.8, 22. , 26.4, 33.1, 36.1, 28.4, 33.4, 28.2,\n",
       "       22.8, 20.3, 16.1, 22.1, 19.4, 21.6, 23.8, 16.2, 17.8, 19.8, 23.1,\n",
       "       21. , 23.8, 23.1, 20.4, 18.5, 25. , 24.6, 23. , 22.2, 19.3, 22.6,\n",
       "       19.8, 17.1, 19.4, 22.2, 20.7, 21.1, 19.5, 18.5, 20.6, 19. , 18.7,\n",
       "       32.7, 16.5, 23.9, 31.2, 17.5, 17.2, 23.1, 24.5, 26.6, 22.9, 24.1,\n",
       "       18.6, 30.1, 18.2, 20.6, 17.8, 21.7, 22.7, 22.6, 25. , 19.9, 20.8,\n",
       "       16.8, 21.9, 27.5, 21.9, 23.1, 50. , 50. , 50. , 50. , 50. , 13.8,\n",
       "       13.8, 15. , 13.9, 13.3, 13.1, 10.2, 10.4, 10.9, 11.3, 12.3,  8.8,\n",
       "        7.2, 10.5,  7.4, 10.2, 11.5, 15.1, 23.2,  9.7, 13.8, 12.7, 13.1,\n",
       "       12.5,  8.5,  5. ,  6.3,  5.6,  7.2, 12.1,  8.3,  8.5,  5. , 11.9,\n",
       "       27.9, 17.2, 27.5, 15. , 17.2, 17.9, 16.3,  7. ,  7.2,  7.5, 10.4,\n",
       "        8.8,  8.4, 16.7, 14.2, 20.8, 13.4, 11.7,  8.3, 10.2, 10.9, 11. ,\n",
       "        9.5, 14.5, 14.1, 16.1, 14.3, 11.7, 13.4,  9.6,  8.7,  8.4, 12.8,\n",
       "       10.5, 17.1, 18.4, 15.4, 10.8, 11.8, 14.9, 12.6, 14.1, 13. , 13.4,\n",
       "       15.2, 16.1, 17.8, 14.9, 14.1, 12.7, 13.5, 14.9, 20. , 16.4, 17.7,\n",
       "       19.5, 20.2, 21.4, 19.9, 19. , 19.1, 19.1, 20.1, 19.9, 19.6, 23.2,\n",
       "       29.8, 13.8, 13.3, 16.7, 12. , 14.6, 21.4, 23. , 23.7, 25. , 21.8,\n",
       "       20.6, 21.2, 19.1, 20.6, 15.2,  7. ,  8.1, 13.6, 20.1, 21.8, 24.5,\n",
       "       23.1, 19.7, 18.3, 21.2, 17.5, 16.8, 22.4, 20.6, 23.9, 22. , 11.9])"
      ]
     },
     "execution_count": 9,
     "metadata": {},
     "output_type": "execute_result"
    }
   ],
   "source": [
    "y"
   ]
  },
  {
   "cell_type": "code",
   "execution_count": 10,
   "id": "a3396ab9",
   "metadata": {},
   "outputs": [],
   "source": [
    "from sklearn.model_selection import train_test_split"
   ]
  },
  {
   "cell_type": "code",
   "execution_count": 11,
   "id": "38b13c7f",
   "metadata": {},
   "outputs": [],
   "source": [
    "X_train, X_test, y_train, y_test = train_test_split(X, y, test_size = 0.20, random_state = 42)"
   ]
  },
  {
   "cell_type": "code",
   "execution_count": 12,
   "id": "5aceef4a",
   "metadata": {},
   "outputs": [],
   "source": [
    "from sklearn.ensemble import AdaBoostRegressor"
   ]
  },
  {
   "cell_type": "code",
   "execution_count": 13,
   "id": "2dca35ec",
   "metadata": {},
   "outputs": [],
   "source": [
    "ada = AdaBoostRegressor(base_estimator=None,\n",
    "                        n_estimators=20,\n",
    "                        learning_rate=0.7,\n",
    "                        loss='linear')"
   ]
  },
  {
   "cell_type": "code",
   "execution_count": 14,
   "id": "d8db96de",
   "metadata": {},
   "outputs": [
    {
     "data": {
      "text/plain": [
       "AdaBoostRegressor(learning_rate=0.7, n_estimators=20)"
      ]
     },
     "execution_count": 14,
     "metadata": {},
     "output_type": "execute_result"
    }
   ],
   "source": [
    "ada.fit(X_train, y_train)"
   ]
  },
  {
   "cell_type": "code",
   "execution_count": 15,
   "id": "31088026",
   "metadata": {},
   "outputs": [],
   "source": [
    "y_pred = ada.predict(X_test)"
   ]
  },
  {
   "cell_type": "code",
   "execution_count": 16,
   "id": "4c30af10",
   "metadata": {},
   "outputs": [
    {
     "data": {
      "text/plain": [
       "array([22.93862069, 30.27798165, 17.81311475, 26.46727273, 17.82      ,\n",
       "       22.1452381 , 19.2225    , 15.28      , 20.3       , 20.3       ,\n",
       "       19.2225    , 19.2225    , 12.25714286, 22.1452381 , 20.3       ,\n",
       "       20.3       , 20.00833333, 12.25714286, 44.355     , 17.24794521,\n",
       "       26.5487013 , 26.5487013 , 17.81311475, 22.1452381 , 15.70714286,\n",
       "       19.04393305, 22.86804124, 14.11925466, 19.2225    , 20.37522124,\n",
       "       19.2375    , 26.46727273, 19.04393305, 19.25714286, 17.84108108,\n",
       "       17.325     , 35.99807692, 21.04769231, 19.91883117, 26.46727273,\n",
       "       18.0877193 , 29.18      , 44.355     , 20.37522124, 23.03064516,\n",
       "       15.70714286, 19.04393305, 26.46727273, 19.20612245, 28.87627119,\n",
       "       20.37522124, 33.208     , 19.20612245, 23.72151899, 46.612     ,\n",
       "       20.3       , 17.325     , 31.3       , 22.86804124, 19.2225    ,\n",
       "       22.23232323, 33.33947368, 29.46419753, 20.05266272, 26.46727273,\n",
       "       17.84108108, 14.56153846, 26.46727273, 29.46419753, 15.90357143,\n",
       "       22.1452381 , 23.72151899, 12.25714286, 23.72151899, 22.1452381 ,\n",
       "       12.25714286, 20.3       , 44.355     , 12.25714286, 14.56153846,\n",
       "       22.93862069, 14.56153846, 22.86804124, 12.25714286, 20.37522124,\n",
       "       23.72151899, 17.82      , 26.46727273, 26.46727273, 19.04393305,\n",
       "       20.37522124, 12.25714286, 20.3       , 20.37522124, 26.46727273,\n",
       "       20.3       , 24.13191489, 14.56153846, 14.11925466, 14.56153846,\n",
       "       22.1452381 , 23.03064516])"
      ]
     },
     "execution_count": 16,
     "metadata": {},
     "output_type": "execute_result"
    }
   ],
   "source": [
    "y_pred"
   ]
  },
  {
   "cell_type": "code",
   "execution_count": 17,
   "id": "a1604c80",
   "metadata": {},
   "outputs": [],
   "source": [
    "from sklearn.metrics import mean_squared_error"
   ]
  },
  {
   "cell_type": "code",
   "execution_count": 18,
   "id": "d5cbeaa1",
   "metadata": {},
   "outputs": [],
   "source": [
    "mse = mean_squared_error(y_test, y_pred)"
   ]
  },
  {
   "cell_type": "code",
   "execution_count": 19,
   "id": "870e5ff8",
   "metadata": {},
   "outputs": [
    {
     "data": {
      "text/plain": [
       "15.198171685268878"
      ]
     },
     "execution_count": 19,
     "metadata": {},
     "output_type": "execute_result"
    }
   ],
   "source": [
    "mse"
   ]
  },
  {
   "cell_type": "markdown",
   "id": "624b93b5",
   "metadata": {},
   "source": [
    "## Different Estimator"
   ]
  },
  {
   "cell_type": "code",
   "execution_count": 20,
   "id": "92406344",
   "metadata": {},
   "outputs": [],
   "source": [
    "from sklearn.linear_model import LinearRegression\n",
    "from sklearn.ensemble import AdaBoostRegressor"
   ]
  },
  {
   "cell_type": "code",
   "execution_count": 21,
   "id": "18a4a2cd",
   "metadata": {},
   "outputs": [],
   "source": [
    "lr = LinearRegression()\n",
    "ada = AdaBoostRegressor(base_estimator=lr,\n",
    "                        n_estimators=20,\n",
    "                        learning_rate=0.7,\n",
    "                        loss='linear')"
   ]
  },
  {
   "cell_type": "code",
   "execution_count": 22,
   "id": "9b4f7fa4",
   "metadata": {},
   "outputs": [
    {
     "data": {
      "text/plain": [
       "AdaBoostRegressor(base_estimator=LinearRegression(), learning_rate=0.7,\n",
       "                  n_estimators=20)"
      ]
     },
     "execution_count": 22,
     "metadata": {},
     "output_type": "execute_result"
    }
   ],
   "source": [
    "ada.fit(X_train, y_train)"
   ]
  },
  {
   "cell_type": "code",
   "execution_count": 23,
   "id": "9bcc2b91",
   "metadata": {},
   "outputs": [],
   "source": [
    "y_pred = ada.predict(X_test)"
   ]
  },
  {
   "cell_type": "code",
   "execution_count": 24,
   "id": "76136dbe",
   "metadata": {},
   "outputs": [
    {
     "data": {
      "text/plain": [
       "array([31.09997772, 39.05048716, 14.12495272, 25.91200494, 19.43874046,\n",
       "       23.91433359, 17.65779038, 11.98890537, 28.08510335, 20.57812236,\n",
       "       26.73523408, 18.37082063, -4.93920626, 21.7422946 , 21.03436198,\n",
       "       27.21967899, 20.80560967,  6.03300512, 40.66139995, 18.8927067 ,\n",
       "       28.803791  , 31.03943633,  9.76535426, 23.08368312, 21.06784791,\n",
       "       21.73950061, 24.14267791, 14.29978945, 24.65840475, 19.70862675,\n",
       "       23.98970634, 26.0345036 , 26.07420961, 24.14988207, 18.83318076,\n",
       "       16.29633593, 31.35287368, 21.3632344 , 26.03631173, 24.6156953 ,\n",
       "       13.97962999, 33.53399061, 42.40866832, 17.72259644, 28.52898118,\n",
       "       21.48949263, 14.39550522, 25.85009338, 23.81511691, 30.88411367,\n",
       "       21.41741667, 36.57730486, 14.83682819, 26.16602315, 40.56743691,\n",
       "       26.2198158 , 19.99017391, 34.10614523, 26.1165083 , 12.6136925 ,\n",
       "       22.78227236, 29.64413572, 34.95058542, 16.79666978, 19.08922298,\n",
       "       19.30056247, 21.72274435, 27.48707484, 31.53849466, 13.16609619,\n",
       "       21.16508691, 31.99813659, 11.34106601, 16.10353328, 24.75174759,\n",
       "        5.97832416, 22.62768339, 41.79601764, 19.0874541 ,  7.23789888,\n",
       "       20.94849394, 15.6214021 , 21.55689083, 11.46811642, 23.93737908,\n",
       "       33.44755277, 19.04073168, 26.13517909, 30.94201664, 19.43828638,\n",
       "       28.07684393,  6.92778846, 19.69119331, 15.56464607, 25.89844948,\n",
       "       20.32841048, 31.48274782,  2.09594467, 13.88446315, 17.41108723,\n",
       "       23.18167668, 25.1127464 ])"
      ]
     },
     "execution_count": 24,
     "metadata": {},
     "output_type": "execute_result"
    }
   ],
   "source": [
    "y_pred"
   ]
  },
  {
   "cell_type": "code",
   "execution_count": 25,
   "id": "e0d649cb",
   "metadata": {},
   "outputs": [],
   "source": [
    "mse = mean_squared_error(y_test, y_pred)"
   ]
  },
  {
   "cell_type": "code",
   "execution_count": 26,
   "id": "2ec618fc",
   "metadata": {},
   "outputs": [
    {
     "name": "stdout",
     "output_type": "stream",
     "text": [
      "23.666305986594033\n"
     ]
    }
   ],
   "source": [
    "print(mse)"
   ]
  },
  {
   "cell_type": "code",
   "execution_count": 27,
   "id": "587befb7",
   "metadata": {},
   "outputs": [],
   "source": [
    "from sklearn.svm import SVR"
   ]
  },
  {
   "cell_type": "code",
   "execution_count": 28,
   "id": "18e3fda7",
   "metadata": {},
   "outputs": [],
   "source": [
    "svr=SVR()"
   ]
  },
  {
   "cell_type": "code",
   "execution_count": 29,
   "id": "2b408bfa",
   "metadata": {},
   "outputs": [],
   "source": [
    "ada = AdaBoostRegressor(base_estimator=svr,\n",
    "                        n_estimators=20,\n",
    "                        learning_rate=0.7,\n",
    "                        loss='linear')"
   ]
  },
  {
   "cell_type": "code",
   "execution_count": 30,
   "id": "5f8e668d",
   "metadata": {},
   "outputs": [
    {
     "data": {
      "text/plain": [
       "AdaBoostRegressor(base_estimator=SVR(), learning_rate=0.7, n_estimators=20)"
      ]
     },
     "execution_count": 30,
     "metadata": {},
     "output_type": "execute_result"
    }
   ],
   "source": [
    "ada.fit(X_train, y_train)"
   ]
  },
  {
   "cell_type": "code",
   "execution_count": 31,
   "id": "c311fc77",
   "metadata": {},
   "outputs": [],
   "source": [
    "y_pred = ada.predict(X_test)"
   ]
  },
  {
   "cell_type": "code",
   "execution_count": 32,
   "id": "926a67e3",
   "metadata": {},
   "outputs": [
    {
     "data": {
      "text/plain": [
       "array([23.07088598, 24.74671474, 16.98863622, 23.60275705, 17.37124682,\n",
       "       21.23225419, 22.78942753, 20.60160394, 17.51936519, 21.63192195,\n",
       "       23.19769964, 22.7894726 , 13.26281898, 21.51584227, 23.14250954,\n",
       "       17.49782844, 24.06560048, 17.04413386, 25.13572951, 17.41171329,\n",
       "       25.22547015, 24.72733476, 22.24285723, 23.36534141, 16.68816289,\n",
       "       17.00214551, 21.75817965, 13.41996366, 23.16144669, 21.67873497,\n",
       "       23.0103512 , 23.35719452, 17.42072931, 17.36519308, 16.77468447,\n",
       "       18.9903408 , 24.04718611, 24.55454092, 23.20856923, 23.46047931,\n",
       "       21.59549522, 24.63615298, 25.70478891, 22.66517647, 23.46150729,\n",
       "       17.41781922, 22.26108599, 23.53387332, 17.5512034 , 23.41264243,\n",
       "       22.96729398, 25.04849193, 22.77320869, 21.82762113, 24.01697418,\n",
       "       17.76562246, 17.4188293 , 25.35296085, 24.15478401, 22.69836463,\n",
       "       23.81809141, 25.7991898 , 23.28975687, 21.79380537, 21.86484516,\n",
       "       23.10536479, 17.37582745, 24.07944663, 25.26502591, 13.46861869,\n",
       "       24.55408022, 17.65164914, 15.3956543 , 23.57292505, 21.58048529,\n",
       "       17.19184976, 21.64689989, 25.70085254, 17.35921817, 16.5118215 ,\n",
       "       22.72173208, 16.52098315, 24.1447564 , 17.34920891, 22.88795345,\n",
       "       22.53544035, 15.78948095, 23.55202134, 24.32929787, 20.76089194,\n",
       "       23.21183792, 13.56385025, 20.82586991, 21.92761098, 17.18548702,\n",
       "       20.67446214, 17.17941554, 13.2627957 , 13.40508475, 13.33831781,\n",
       "       24.16039422, 21.54369531])"
      ]
     },
     "execution_count": 32,
     "metadata": {},
     "output_type": "execute_result"
    }
   ],
   "source": [
    "y_pred"
   ]
  },
  {
   "cell_type": "code",
   "execution_count": 33,
   "id": "e2b6b752",
   "metadata": {},
   "outputs": [],
   "source": [
    "mse = mean_squared_error(y_test, y_pred)"
   ]
  },
  {
   "cell_type": "code",
   "execution_count": 34,
   "id": "e6e57813",
   "metadata": {},
   "outputs": [
    {
     "data": {
      "text/plain": [
       "52.01723025124547"
      ]
     },
     "execution_count": 34,
     "metadata": {},
     "output_type": "execute_result"
    }
   ],
   "source": [
    "mse"
   ]
  },
  {
   "cell_type": "markdown",
   "id": "3adf2a74",
   "metadata": {},
   "source": [
    "# Conclusion"
   ]
  },
  {
   "cell_type": "markdown",
   "id": "d5c8cfdb",
   "metadata": {},
   "source": [
    "- MSE of AdaBoost is 13.285184745258613.\n",
    "- MSE of Linear Regression is 24.434137371116528.\n",
    "- MSE of Support Vector Regressor is 52.16083097903864.\n",
    "- Choosig AdaBoost algorithm for this dataset, because the smaller the mean squared error, the closer to finding the line of best fit.\n"
   ]
  },
  {
   "cell_type": "markdown",
   "id": "787982af",
   "metadata": {},
   "source": [
    "# Choosing optimal Hyperparameters for tree"
   ]
  },
  {
   "cell_type": "markdown",
   "id": "d11c4c04",
   "metadata": {},
   "source": [
    "# Grid Search"
   ]
  },
  {
   "cell_type": "code",
   "execution_count": 35,
   "id": "08dcf18c",
   "metadata": {},
   "outputs": [],
   "source": [
    "from sklearn.model_selection import GridSearchCV"
   ]
  },
  {
   "cell_type": "code",
   "execution_count": 36,
   "id": "6ef187ea",
   "metadata": {},
   "outputs": [],
   "source": [
    "# dictionary of hyperparameters as key value to be tried\n",
    "\n",
    "dict = {\n",
    "    'n_estimators' : [10000,50,100,500],\n",
    "    'learning_rate' : [0.001,0.01,0.1,1.0]\n",
    "   \n",
    "}"
   ]
  },
  {
   "cell_type": "code",
   "execution_count": 37,
   "id": "550ab77d",
   "metadata": {},
   "outputs": [
    {
     "data": {
      "text/plain": [
       "{'n_estimators': [10000, 50, 100, 500],\n",
       " 'learning_rate': [0.001, 0.01, 0.1, 1.0]}"
      ]
     },
     "execution_count": 37,
     "metadata": {},
     "output_type": "execute_result"
    }
   ],
   "source": [
    "dict"
   ]
  },
  {
   "cell_type": "code",
   "execution_count": 38,
   "id": "8a06eced",
   "metadata": {},
   "outputs": [],
   "source": [
    "# Instance of AdaBoost\n",
    "ada = AdaBoostRegressor()"
   ]
  },
  {
   "cell_type": "code",
   "execution_count": 39,
   "id": "9e7bb010",
   "metadata": {},
   "outputs": [],
   "source": [
    "# Instance of GridSearchCV\n",
    "GS = GridSearchCV(estimator=ada, param_grid=dict, cv=4, n_jobs=-1, verbose=1, scoring='accuracy')\n"
   ]
  },
  {
   "cell_type": "code",
   "execution_count": 40,
   "id": "747fbb0a",
   "metadata": {},
   "outputs": [
    {
     "name": "stdout",
     "output_type": "stream",
     "text": [
      "Fitting 4 folds for each of 16 candidates, totalling 64 fits\n"
     ]
    },
    {
     "data": {
      "text/plain": [
       "GridSearchCV(cv=4, estimator=AdaBoostRegressor(), n_jobs=-1,\n",
       "             param_grid={'learning_rate': [0.001, 0.01, 0.1, 1.0],\n",
       "                         'n_estimators': [10000, 50, 100, 500]},\n",
       "             scoring='accuracy', verbose=1)"
      ]
     },
     "execution_count": 40,
     "metadata": {},
     "output_type": "execute_result"
    }
   ],
   "source": [
    "GS.fit(X_train,y_train)"
   ]
  },
  {
   "cell_type": "code",
   "execution_count": 41,
   "id": "354e3e42",
   "metadata": {},
   "outputs": [
    {
     "data": {
      "text/plain": [
       "AdaBoostRegressor(learning_rate=0.001, n_estimators=10000)"
      ]
     },
     "execution_count": 41,
     "metadata": {},
     "output_type": "execute_result"
    }
   ],
   "source": [
    "# best Estimator og GridSearch\n",
    "GS.best_estimator_"
   ]
  },
  {
   "cell_type": "code",
   "execution_count": 42,
   "id": "866eb5af",
   "metadata": {},
   "outputs": [],
   "source": [
    "# Best Estimator of Decision Tree\n",
    "DTC_best = GS.best_estimator_"
   ]
  },
  {
   "cell_type": "code",
   "execution_count": 43,
   "id": "fa67865b",
   "metadata": {},
   "outputs": [
    {
     "data": {
      "text/plain": [
       "{'learning_rate': 0.001, 'n_estimators': 10000}"
      ]
     },
     "execution_count": 43,
     "metadata": {},
     "output_type": "execute_result"
    }
   ],
   "source": [
    "GS.best_params_"
   ]
  },
  {
   "cell_type": "markdown",
   "id": "85be710a",
   "metadata": {},
   "source": [
    "## RandomForestRegressor"
   ]
  },
  {
   "cell_type": "code",
   "execution_count": 44,
   "id": "d7a6e689",
   "metadata": {},
   "outputs": [],
   "source": [
    "from sklearn.ensemble import RandomForestRegressor\n"
   ]
  },
  {
   "cell_type": "code",
   "execution_count": 45,
   "id": "a837b3ea",
   "metadata": {},
   "outputs": [],
   "source": [
    "ada = AdaBoostRegressor()"
   ]
  },
  {
   "cell_type": "code",
   "execution_count": 46,
   "id": "e48c25fd",
   "metadata": {},
   "outputs": [],
   "source": [
    "RFC = RandomForestRegressor()"
   ]
  },
  {
   "cell_type": "code",
   "execution_count": 47,
   "id": "b82852e2",
   "metadata": {},
   "outputs": [
    {
     "data": {
      "text/plain": [
       "RandomForestRegressor()"
      ]
     },
     "execution_count": 47,
     "metadata": {},
     "output_type": "execute_result"
    }
   ],
   "source": [
    "RFC.fit(X_train, y_train)"
   ]
  },
  {
   "cell_type": "code",
   "execution_count": null,
   "id": "e24ed83c",
   "metadata": {},
   "outputs": [],
   "source": []
  }
 ],
 "metadata": {
  "kernelspec": {
   "display_name": "Python 3 (ipykernel)",
   "language": "python",
   "name": "python3"
  },
  "language_info": {
   "codemirror_mode": {
    "name": "ipython",
    "version": 3
   },
   "file_extension": ".py",
   "mimetype": "text/x-python",
   "name": "python",
   "nbconvert_exporter": "python",
   "pygments_lexer": "ipython3",
   "version": "3.9.12"
  }
 },
 "nbformat": 4,
 "nbformat_minor": 5
}
