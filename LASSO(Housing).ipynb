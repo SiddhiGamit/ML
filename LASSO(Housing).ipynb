{
 "cells": [
  {
   "cell_type": "code",
   "execution_count": 77,
   "id": "c24654b0",
   "metadata": {},
   "outputs": [],
   "source": [
    "import pandas as pd\n",
    "import numpy as np\n",
    "import matplotlib.pyplot as plt\n",
    "import seaborn as sns"
   ]
  },
  {
   "cell_type": "code",
   "execution_count": 78,
   "id": "8e64faf8",
   "metadata": {},
   "outputs": [],
   "source": [
    "import warnings\n",
    "warnings.filterwarnings('ignore')"
   ]
  },
  {
   "cell_type": "code",
   "execution_count": 79,
   "id": "bc41a0e0",
   "metadata": {},
   "outputs": [],
   "source": [
    "df = pd.read_csv('Housing.csv')"
   ]
  },
  {
   "cell_type": "code",
   "execution_count": 80,
   "id": "95c9193d",
   "metadata": {},
   "outputs": [],
   "source": [
    "## List of Variables to map\n",
    "varlist = ['mainroad', 'guestroom', 'basement', 'hotwaterheating', 'airconditioning', 'prefarea']\n",
    " \n",
    "##Defining the map function\n",
    "\n",
    "def binary_map(x):\n",
    "    return x.map({'yes' : 1, 'no' : 0})\n",
    "\n",
    "##Applying the function to the housing list\n",
    "\n",
    "df[varlist] = df[varlist].apply(binary_map)"
   ]
  },
  {
   "cell_type": "code",
   "execution_count": 81,
   "id": "421101e9",
   "metadata": {},
   "outputs": [],
   "source": [
    "## Get the dummy variables for the featur 'furnishingstatus' and store it in a new variable - 'status'\n",
    "status = pd.get_dummies(df['furnishingstatus'])"
   ]
  },
  {
   "cell_type": "code",
   "execution_count": 82,
   "id": "b50bce94",
   "metadata": {},
   "outputs": [],
   "source": [
    "## Let's drop the first column from status df using 'drop_first = True'\n",
    "status = pd.get_dummies(df['furnishingstatus'], drop_first = True)"
   ]
  },
  {
   "cell_type": "code",
   "execution_count": 83,
   "id": "4d71e0dd",
   "metadata": {},
   "outputs": [],
   "source": [
    "df = pd.concat([df, status], axis = 1)"
   ]
  },
  {
   "cell_type": "code",
   "execution_count": 84,
   "id": "b6628d3d",
   "metadata": {},
   "outputs": [],
   "source": [
    "# Drop 'furnishingstatus' as we habe created the dummies for it\n",
    "df.drop(['furnishingstatus'], axis = 1, inplace = True)"
   ]
  },
  {
   "cell_type": "code",
   "execution_count": 85,
   "id": "5c69a013",
   "metadata": {},
   "outputs": [
    {
     "data": {
      "text/html": [
       "<div>\n",
       "<style scoped>\n",
       "    .dataframe tbody tr th:only-of-type {\n",
       "        vertical-align: middle;\n",
       "    }\n",
       "\n",
       "    .dataframe tbody tr th {\n",
       "        vertical-align: top;\n",
       "    }\n",
       "\n",
       "    .dataframe thead th {\n",
       "        text-align: right;\n",
       "    }\n",
       "</style>\n",
       "<table border=\"1\" class=\"dataframe\">\n",
       "  <thead>\n",
       "    <tr style=\"text-align: right;\">\n",
       "      <th></th>\n",
       "      <th>price</th>\n",
       "      <th>area</th>\n",
       "      <th>bedrooms</th>\n",
       "      <th>bathrooms</th>\n",
       "      <th>stories</th>\n",
       "      <th>mainroad</th>\n",
       "      <th>guestroom</th>\n",
       "      <th>basement</th>\n",
       "      <th>hotwaterheating</th>\n",
       "      <th>airconditioning</th>\n",
       "      <th>parking</th>\n",
       "      <th>prefarea</th>\n",
       "      <th>semi-furnished</th>\n",
       "      <th>unfurnished</th>\n",
       "    </tr>\n",
       "  </thead>\n",
       "  <tbody>\n",
       "    <tr>\n",
       "      <th>0</th>\n",
       "      <td>13300000</td>\n",
       "      <td>7420</td>\n",
       "      <td>4</td>\n",
       "      <td>2</td>\n",
       "      <td>3</td>\n",
       "      <td>1</td>\n",
       "      <td>0</td>\n",
       "      <td>0</td>\n",
       "      <td>0</td>\n",
       "      <td>1</td>\n",
       "      <td>2</td>\n",
       "      <td>1</td>\n",
       "      <td>0</td>\n",
       "      <td>0</td>\n",
       "    </tr>\n",
       "    <tr>\n",
       "      <th>1</th>\n",
       "      <td>12250000</td>\n",
       "      <td>8960</td>\n",
       "      <td>4</td>\n",
       "      <td>4</td>\n",
       "      <td>4</td>\n",
       "      <td>1</td>\n",
       "      <td>0</td>\n",
       "      <td>0</td>\n",
       "      <td>0</td>\n",
       "      <td>1</td>\n",
       "      <td>3</td>\n",
       "      <td>0</td>\n",
       "      <td>0</td>\n",
       "      <td>0</td>\n",
       "    </tr>\n",
       "    <tr>\n",
       "      <th>2</th>\n",
       "      <td>12250000</td>\n",
       "      <td>9960</td>\n",
       "      <td>3</td>\n",
       "      <td>2</td>\n",
       "      <td>2</td>\n",
       "      <td>1</td>\n",
       "      <td>0</td>\n",
       "      <td>1</td>\n",
       "      <td>0</td>\n",
       "      <td>0</td>\n",
       "      <td>2</td>\n",
       "      <td>1</td>\n",
       "      <td>1</td>\n",
       "      <td>0</td>\n",
       "    </tr>\n",
       "    <tr>\n",
       "      <th>3</th>\n",
       "      <td>12215000</td>\n",
       "      <td>7500</td>\n",
       "      <td>4</td>\n",
       "      <td>2</td>\n",
       "      <td>2</td>\n",
       "      <td>1</td>\n",
       "      <td>0</td>\n",
       "      <td>1</td>\n",
       "      <td>0</td>\n",
       "      <td>1</td>\n",
       "      <td>3</td>\n",
       "      <td>1</td>\n",
       "      <td>0</td>\n",
       "      <td>0</td>\n",
       "    </tr>\n",
       "    <tr>\n",
       "      <th>4</th>\n",
       "      <td>11410000</td>\n",
       "      <td>7420</td>\n",
       "      <td>4</td>\n",
       "      <td>1</td>\n",
       "      <td>2</td>\n",
       "      <td>1</td>\n",
       "      <td>1</td>\n",
       "      <td>1</td>\n",
       "      <td>0</td>\n",
       "      <td>1</td>\n",
       "      <td>2</td>\n",
       "      <td>0</td>\n",
       "      <td>0</td>\n",
       "      <td>0</td>\n",
       "    </tr>\n",
       "  </tbody>\n",
       "</table>\n",
       "</div>"
      ],
      "text/plain": [
       "      price  area  bedrooms  bathrooms  stories  mainroad  guestroom  \\\n",
       "0  13300000  7420         4          2        3         1          0   \n",
       "1  12250000  8960         4          4        4         1          0   \n",
       "2  12250000  9960         3          2        2         1          0   \n",
       "3  12215000  7500         4          2        2         1          0   \n",
       "4  11410000  7420         4          1        2         1          1   \n",
       "\n",
       "   basement  hotwaterheating  airconditioning  parking  prefarea  \\\n",
       "0         0                0                1        2         1   \n",
       "1         0                0                1        3         0   \n",
       "2         1                0                0        2         1   \n",
       "3         1                0                1        3         1   \n",
       "4         1                0                1        2         0   \n",
       "\n",
       "   semi-furnished  unfurnished  \n",
       "0               0            0  \n",
       "1               0            0  \n",
       "2               1            0  \n",
       "3               0            0  \n",
       "4               0            0  "
      ]
     },
     "execution_count": 85,
     "metadata": {},
     "output_type": "execute_result"
    }
   ],
   "source": [
    "df.head()"
   ]
  },
  {
   "cell_type": "code",
   "execution_count": 86,
   "id": "df0b533c",
   "metadata": {},
   "outputs": [],
   "source": [
    "y  = df.pop('price')\n",
    "X= df"
   ]
  },
  {
   "cell_type": "code",
   "execution_count": 87,
   "id": "eb0c938e",
   "metadata": {},
   "outputs": [],
   "source": [
    "from sklearn.model_selection import train_test_split"
   ]
  },
  {
   "cell_type": "code",
   "execution_count": 88,
   "id": "4daa59c4",
   "metadata": {},
   "outputs": [],
   "source": [
    "X_train, X_test, y_train, y_test = train_test_split(X, y, train_size = 0.7, test_size = 0.3, random_state = 100)"
   ]
  },
  {
   "cell_type": "code",
   "execution_count": 89,
   "id": "0498bc1b",
   "metadata": {},
   "outputs": [],
   "source": [
    "num_vars = ['area', 'bedrooms', 'bathrooms', 'stories', 'parking']"
   ]
  },
  {
   "cell_type": "code",
   "execution_count": 90,
   "id": "b827ee7f",
   "metadata": {},
   "outputs": [],
   "source": [
    "from sklearn.preprocessing import StandardScaler, MinMaxScaler"
   ]
  },
  {
   "cell_type": "code",
   "execution_count": 91,
   "id": "710d6b80",
   "metadata": {},
   "outputs": [],
   "source": [
    "scalar = MinMaxScaler()"
   ]
  },
  {
   "cell_type": "code",
   "execution_count": 92,
   "id": "c74eeab7",
   "metadata": {},
   "outputs": [],
   "source": [
    "X_train[num_vars] = scalar.fit_transform(X_train[num_vars])  ## scaling X_train"
   ]
  },
  {
   "cell_type": "code",
   "execution_count": 93,
   "id": "2b1cee78",
   "metadata": {},
   "outputs": [],
   "source": [
    "X_test[num_vars] = scalar.transform(X_test[num_vars]) ## scaling test"
   ]
  },
  {
   "cell_type": "code",
   "execution_count": 94,
   "id": "290d61cd",
   "metadata": {},
   "outputs": [],
   "source": [
    "y_train = scalar.fit_transform(y_train.values.reshape(-1, 1))"
   ]
  },
  {
   "cell_type": "code",
   "execution_count": 95,
   "id": "09471a59",
   "metadata": {},
   "outputs": [],
   "source": [
    "y_test = scalar.transform(y_test.values.reshape(-1, 1))"
   ]
  },
  {
   "cell_type": "code",
   "execution_count": 96,
   "id": "4df5a596",
   "metadata": {},
   "outputs": [],
   "source": [
    "from sklearn.linear_model import LinearRegression"
   ]
  },
  {
   "cell_type": "code",
   "execution_count": 97,
   "id": "e52aab6c",
   "metadata": {},
   "outputs": [],
   "source": [
    "lr = LinearRegression()"
   ]
  },
  {
   "cell_type": "code",
   "execution_count": 98,
   "id": "25f09ac9",
   "metadata": {},
   "outputs": [
    {
     "data": {
      "text/plain": [
       "LinearRegression()"
      ]
     },
     "execution_count": 98,
     "metadata": {},
     "output_type": "execute_result"
    }
   ],
   "source": [
    "lr.fit(X_train,y_train)"
   ]
  },
  {
   "cell_type": "code",
   "execution_count": 99,
   "id": "5582509d",
   "metadata": {},
   "outputs": [],
   "source": [
    "y_pred = lr.predict(X_test)"
   ]
  },
  {
   "cell_type": "code",
   "execution_count": 100,
   "id": "760edb0d",
   "metadata": {},
   "outputs": [
    {
     "data": {
      "text/plain": [
       "array([[0.20724668],\n",
       "       [0.42521187],\n",
       "       [0.34390078],\n",
       "       [0.30965517],\n",
       "       [0.26679159],\n",
       "       [0.20081042],\n",
       "       [0.54605698],\n",
       "       [0.34459482],\n",
       "       [0.15132084],\n",
       "       [0.33824567],\n",
       "       [0.10885184],\n",
       "       [0.38778083],\n",
       "       [0.24973636],\n",
       "       [0.48168266],\n",
       "       [0.34081042],\n",
       "       [0.4416681 ],\n",
       "       [0.55569757],\n",
       "       [0.22883672],\n",
       "       [0.37058649],\n",
       "       [0.27048717],\n",
       "       [0.21622618],\n",
       "       [0.08541382],\n",
       "       [0.23984756],\n",
       "       [0.16672718],\n",
       "       [0.08343775],\n",
       "       [0.143553  ],\n",
       "       [0.29819593],\n",
       "       [0.41218154],\n",
       "       [0.4093423 ],\n",
       "       [0.28367798],\n",
       "       [0.12030014],\n",
       "       [0.24278338],\n",
       "       [0.10898889],\n",
       "       [0.08625354],\n",
       "       [0.27681818],\n",
       "       [0.24897191],\n",
       "       [0.24859295],\n",
       "       [0.13302812],\n",
       "       [0.13846168],\n",
       "       [0.21930575],\n",
       "       [0.11751055],\n",
       "       [0.36890977],\n",
       "       [0.37424519],\n",
       "       [0.10598081],\n",
       "       [0.07806882],\n",
       "       [0.2499371 ],\n",
       "       [0.23687591],\n",
       "       [0.28967078],\n",
       "       [0.13575259],\n",
       "       [0.37284403],\n",
       "       [0.02055195],\n",
       "       [0.41082617],\n",
       "       [0.36076046],\n",
       "       [0.41261061],\n",
       "       [0.44744552],\n",
       "       [0.28150131],\n",
       "       [0.38291105],\n",
       "       [0.09432758],\n",
       "       [0.08317673],\n",
       "       [0.20920304],\n",
       "       [0.091526  ],\n",
       "       [0.1740686 ],\n",
       "       [0.47482841],\n",
       "       [0.45060196],\n",
       "       [0.09529591],\n",
       "       [0.12311174],\n",
       "       [0.43519528],\n",
       "       [0.08439063],\n",
       "       [0.06164695],\n",
       "       [0.39596137],\n",
       "       [0.07803973],\n",
       "       [0.40667874],\n",
       "       [0.19440104],\n",
       "       [0.14728027],\n",
       "       [0.28964017],\n",
       "       [0.22101661],\n",
       "       [0.43017337],\n",
       "       [0.55774805],\n",
       "       [0.70483516],\n",
       "       [0.32319236],\n",
       "       [0.54159408],\n",
       "       [0.09493839],\n",
       "       [0.10137079],\n",
       "       [0.09090494],\n",
       "       [0.29149982],\n",
       "       [0.13477463],\n",
       "       [0.14666078],\n",
       "       [0.3465008 ],\n",
       "       [0.28167449],\n",
       "       [0.07462617],\n",
       "       [0.22494555],\n",
       "       [0.1071637 ],\n",
       "       [0.13493697],\n",
       "       [0.26599164],\n",
       "       [0.25578205],\n",
       "       [0.1170733 ],\n",
       "       [0.25847717],\n",
       "       [0.13179297],\n",
       "       [0.39466174],\n",
       "       [0.11753258],\n",
       "       [0.27349791],\n",
       "       [0.40816593],\n",
       "       [0.37144207],\n",
       "       [0.54175891],\n",
       "       [0.18221448],\n",
       "       [0.276552  ],\n",
       "       [0.12351519],\n",
       "       [0.2090798 ],\n",
       "       [0.20691028],\n",
       "       [0.35663471],\n",
       "       [0.51282351],\n",
       "       [0.3332352 ],\n",
       "       [0.33173015],\n",
       "       [0.23338835],\n",
       "       [0.12233026],\n",
       "       [0.76799036],\n",
       "       [0.22161546],\n",
       "       [0.29681099],\n",
       "       [0.14676288],\n",
       "       [0.29197204],\n",
       "       [0.42983845],\n",
       "       [0.14109372],\n",
       "       [0.14547879],\n",
       "       [0.25859297],\n",
       "       [0.38005966],\n",
       "       [0.27218267],\n",
       "       [0.20180115],\n",
       "       [0.18118404],\n",
       "       [0.41615062],\n",
       "       [0.41704271],\n",
       "       [0.3245028 ],\n",
       "       [0.13232309],\n",
       "       [0.10410445],\n",
       "       [0.36971139],\n",
       "       [0.15357625],\n",
       "       [0.39985309],\n",
       "       [0.60046409],\n",
       "       [0.15029678],\n",
       "       [0.16437082],\n",
       "       [0.41562684],\n",
       "       [0.13001232],\n",
       "       [0.20590131],\n",
       "       [0.24971642],\n",
       "       [0.31468538],\n",
       "       [0.13493497],\n",
       "       [0.27805312],\n",
       "       [0.16309751],\n",
       "       [0.38266968],\n",
       "       [0.46639193],\n",
       "       [0.26744588],\n",
       "       [0.14701924],\n",
       "       [0.46499529],\n",
       "       [0.09975104],\n",
       "       [0.26372816],\n",
       "       [0.31332445],\n",
       "       [0.21097955],\n",
       "       [0.19285473],\n",
       "       [0.26210569],\n",
       "       [0.27703285],\n",
       "       [0.27312278],\n",
       "       [0.36132284],\n",
       "       [0.19735923],\n",
       "       [0.46620684],\n",
       "       [0.45748379]])"
      ]
     },
     "execution_count": 100,
     "metadata": {},
     "output_type": "execute_result"
    }
   ],
   "source": [
    "y_pred"
   ]
  },
  {
   "cell_type": "code",
   "execution_count": 101,
   "id": "51594369",
   "metadata": {},
   "outputs": [],
   "source": [
    "y_actual = y_test"
   ]
  },
  {
   "cell_type": "code",
   "execution_count": 102,
   "id": "d9793113",
   "metadata": {},
   "outputs": [
    {
     "data": {
      "text/plain": [
       "array([[0.22969697],\n",
       "       [0.48484848],\n",
       "       [0.3030303 ],\n",
       "       [0.24242424],\n",
       "       [0.22787879],\n",
       "       [0.25454545],\n",
       "       [0.58787879],\n",
       "       [0.3030303 ],\n",
       "       [0.08484848],\n",
       "       [0.36363636],\n",
       "       [0.16666667],\n",
       "       [0.42424242],\n",
       "       [0.05454545],\n",
       "       [0.3630303 ],\n",
       "       [0.33333333],\n",
       "       [0.27878788],\n",
       "       [0.90606061],\n",
       "       [0.22424242],\n",
       "       [0.53030303],\n",
       "       [0.36363636],\n",
       "       [0.12060606],\n",
       "       [0.19393939],\n",
       "       [0.23575758],\n",
       "       [0.0969697 ],\n",
       "       [0.14848485],\n",
       "       [0.07818182],\n",
       "       [0.23636364],\n",
       "       [0.38484848],\n",
       "       [0.18787879],\n",
       "       [0.63636364],\n",
       "       [0.07878788],\n",
       "       [0.15151515],\n",
       "       [0.13939394],\n",
       "       [0.01212121],\n",
       "       [0.26666667],\n",
       "       [0.21212121],\n",
       "       [0.21212121],\n",
       "       [0.09090909],\n",
       "       [0.16666667],\n",
       "       [0.19545455],\n",
       "       [0.28484848],\n",
       "       [0.32727273],\n",
       "       [0.33333333],\n",
       "       [0.03030303],\n",
       "       [0.07878788],\n",
       "       [0.25454545],\n",
       "       [0.21212121],\n",
       "       [0.07272727],\n",
       "       [0.16060606],\n",
       "       [0.37575758],\n",
       "       [0.07393939],\n",
       "       [0.34545455],\n",
       "       [0.3030303 ],\n",
       "       [0.57575758],\n",
       "       [0.38484848],\n",
       "       [0.27272727],\n",
       "       [0.39393939],\n",
       "       [0.14484848],\n",
       "       [0.11818182],\n",
       "       [0.27272727],\n",
       "       [0.01212121],\n",
       "       [0.15757576],\n",
       "       [0.57575758],\n",
       "       [0.39333333],\n",
       "       [0.01818182],\n",
       "       [0.15151515],\n",
       "       [0.48424242],\n",
       "       [0.15757576],\n",
       "       [0.12121212],\n",
       "       [0.33030303],\n",
       "       [0.06060606],\n",
       "       [0.24181818],\n",
       "       [0.27333333],\n",
       "       [0.06363636],\n",
       "       [0.27272727],\n",
       "       [0.37727273],\n",
       "       [0.33333333],\n",
       "       [0.53939394],\n",
       "       [0.72727273],\n",
       "       [0.24848485],\n",
       "       [0.47272727],\n",
       "       [0.04242424],\n",
       "       [0.10909091],\n",
       "       [0.1030303 ],\n",
       "       [0.28787879],\n",
       "       [0.07878788],\n",
       "       [0.12727273],\n",
       "       [0.49090909],\n",
       "       [0.27212121],\n",
       "       [0.10909091],\n",
       "       [0.1030303 ],\n",
       "       [0.15090909],\n",
       "       [0.00606061],\n",
       "       [0.18181818],\n",
       "       [0.23939394],\n",
       "       [0.14242424],\n",
       "       [0.40606061],\n",
       "       [0.15151515],\n",
       "       [0.32121212],\n",
       "       [0.22424242],\n",
       "       [0.20333333],\n",
       "       [0.46060606],\n",
       "       [0.31818182],\n",
       "       [0.43636364],\n",
       "       [0.12121212],\n",
       "       [0.2       ],\n",
       "       [0.13939394],\n",
       "       [0.18484848],\n",
       "       [0.16363636],\n",
       "       [0.5969697 ],\n",
       "       [0.52727273],\n",
       "       [0.40424242],\n",
       "       [0.36363636],\n",
       "       [0.10909091],\n",
       "       [0.18181818],\n",
       "       [0.90909091],\n",
       "       [0.23636364],\n",
       "       [0.29090909],\n",
       "       [0.22242424],\n",
       "       [0.21212121],\n",
       "       [0.51515152],\n",
       "       [0.15151515],\n",
       "       [0.15151515],\n",
       "       [0.35151515],\n",
       "       [0.34545455],\n",
       "       [0.32424242],\n",
       "       [0.11515152],\n",
       "       [0.12121212],\n",
       "       [0.5969697 ],\n",
       "       [0.22424242],\n",
       "       [0.60606061],\n",
       "       [0.15151515],\n",
       "       [0.11515152],\n",
       "       [0.30909091],\n",
       "       [0.14242424],\n",
       "       [0.38787879],\n",
       "       [0.72727273],\n",
       "       [0.18787879],\n",
       "       [0.13636364],\n",
       "       [0.61818182],\n",
       "       [0.1030303 ],\n",
       "       [0.07818182],\n",
       "       [0.24848485],\n",
       "       [0.12121212],\n",
       "       [0.07878788],\n",
       "       [0.27575758],\n",
       "       [0.15151515],\n",
       "       [0.16363636],\n",
       "       [0.3030303 ],\n",
       "       [0.48484848],\n",
       "       [0.06060606],\n",
       "       [0.25454545],\n",
       "       [0.14545455],\n",
       "       [0.26121212],\n",
       "       [0.46060606],\n",
       "       [0.18181818],\n",
       "       [0.1630303 ],\n",
       "       [0.17515152],\n",
       "       [0.11515152],\n",
       "       [0.14545455],\n",
       "       [0.28484848],\n",
       "       [0.20606061],\n",
       "       [0.5       ],\n",
       "       [0.49090909]])"
      ]
     },
     "execution_count": 102,
     "metadata": {},
     "output_type": "execute_result"
    }
   ],
   "source": [
    "y_actual"
   ]
  },
  {
   "cell_type": "code",
   "execution_count": 117,
   "id": "83675afc",
   "metadata": {},
   "outputs": [],
   "source": [
    "train_score_lr = lr.score(X_train, y_train)\n",
    "test_score_lr = lr.score(X_test, y_test)"
   ]
  },
  {
   "cell_type": "code",
   "execution_count": 118,
   "id": "a0526d3f",
   "metadata": {},
   "outputs": [
    {
     "name": "stdout",
     "output_type": "stream",
     "text": [
      "The Train score for Linear Regresion Model is : 0.6814893088451202\n",
      "The test score for LinearRegression Model is : 0.672958274345992\n"
     ]
    }
   ],
   "source": [
    "print(\"The Train score for Linear Regresion Model is : {}\".format(train_score_lr))\n",
    "print(\"The test score for LinearRegression Model is : {}\".format(test_score_lr))"
   ]
  },
  {
   "cell_type": "markdown",
   "id": "9afeed09",
   "metadata": {},
   "source": [
    "# Alpha"
   ]
  },
  {
   "cell_type": "code",
   "execution_count": null,
   "id": "08e28695",
   "metadata": {},
   "outputs": [],
   "source": []
  },
  {
   "cell_type": "code",
   "execution_count": null,
   "id": "b1c74c24",
   "metadata": {},
   "outputs": [],
   "source": []
  },
  {
   "cell_type": "code",
   "execution_count": null,
   "id": "f5430b7a",
   "metadata": {},
   "outputs": [],
   "source": []
  },
  {
   "cell_type": "code",
   "execution_count": null,
   "id": "06bce4da",
   "metadata": {},
   "outputs": [],
   "source": []
  },
  {
   "cell_type": "code",
   "execution_count": null,
   "id": "b17cfd22",
   "metadata": {},
   "outputs": [],
   "source": []
  },
  {
   "cell_type": "code",
   "execution_count": null,
   "id": "aa933e63",
   "metadata": {},
   "outputs": [],
   "source": []
  },
  {
   "cell_type": "code",
   "execution_count": null,
   "id": "d728914d",
   "metadata": {},
   "outputs": [],
   "source": []
  },
  {
   "cell_type": "code",
   "execution_count": null,
   "id": "be286841",
   "metadata": {},
   "outputs": [],
   "source": []
  },
  {
   "cell_type": "code",
   "execution_count": null,
   "id": "efe3fb59",
   "metadata": {},
   "outputs": [],
   "source": []
  },
  {
   "cell_type": "code",
   "execution_count": null,
   "id": "b6967336",
   "metadata": {},
   "outputs": [],
   "source": []
  },
  {
   "cell_type": "code",
   "execution_count": null,
   "id": "be314396",
   "metadata": {},
   "outputs": [],
   "source": []
  },
  {
   "cell_type": "code",
   "execution_count": null,
   "id": "96ea3a0b",
   "metadata": {},
   "outputs": [],
   "source": []
  },
  {
   "cell_type": "markdown",
   "id": "db66df81",
   "metadata": {},
   "source": [
    "# Ridge"
   ]
  },
  {
   "cell_type": "code",
   "execution_count": 119,
   "id": "313c7451",
   "metadata": {},
   "outputs": [],
   "source": [
    "from sklearn.linear_model import Ridge"
   ]
  },
  {
   "cell_type": "code",
   "execution_count": 120,
   "id": "b9bc9519",
   "metadata": {},
   "outputs": [],
   "source": [
    "rid = Ridge(alpha = 0.0001)"
   ]
  },
  {
   "cell_type": "code",
   "execution_count": 121,
   "id": "d73e615c",
   "metadata": {},
   "outputs": [
    {
     "data": {
      "text/plain": [
       "Ridge(alpha=0.0001)"
      ]
     },
     "execution_count": 121,
     "metadata": {},
     "output_type": "execute_result"
    }
   ],
   "source": [
    "rid.fit(X_train,y_train)"
   ]
  },
  {
   "cell_type": "code",
   "execution_count": 122,
   "id": "8d549c2f",
   "metadata": {},
   "outputs": [],
   "source": [
    "train_score_rid = rid.score(X_train, y_train)\n",
    "test_score_rid = rid.score(X_test, y_test)"
   ]
  },
  {
   "cell_type": "code",
   "execution_count": 123,
   "id": "d9bd3b11",
   "metadata": {},
   "outputs": [
    {
     "name": "stdout",
     "output_type": "stream",
     "text": [
      "The Train score for Ridge Model is : 0.6814893088383123\n",
      "The test score for Ridge Model is : 0.6729583913175085\n"
     ]
    }
   ],
   "source": [
    "print(\"The Train score for Ridge Model is : {}\".format(train_score_rid))\n",
    "print(\"The test score for Ridge Model is : {}\".format(test_score_rid))"
   ]
  },
  {
   "cell_type": "markdown",
   "id": "07152556",
   "metadata": {},
   "source": [
    "# Lasso"
   ]
  },
  {
   "cell_type": "code",
   "execution_count": 124,
   "id": "eb7a6c0a",
   "metadata": {},
   "outputs": [],
   "source": [
    "from sklearn.linear_model import Lasso"
   ]
  },
  {
   "cell_type": "code",
   "execution_count": 125,
   "id": "befbd2af",
   "metadata": {},
   "outputs": [],
   "source": [
    "las = Ridge(alpha = 0.0001)"
   ]
  },
  {
   "cell_type": "code",
   "execution_count": 126,
   "id": "5e466800",
   "metadata": {},
   "outputs": [
    {
     "data": {
      "text/plain": [
       "Ridge(alpha=0.0001)"
      ]
     },
     "execution_count": 126,
     "metadata": {},
     "output_type": "execute_result"
    }
   ],
   "source": [
    "las.fit(X_train,y_train)"
   ]
  },
  {
   "cell_type": "code",
   "execution_count": 127,
   "id": "71939531",
   "metadata": {},
   "outputs": [],
   "source": [
    "train_score_las = las.score(X_train, y_train)\n",
    "test_score_las = las.score(X_test, y_test)"
   ]
  },
  {
   "cell_type": "code",
   "execution_count": 128,
   "id": "f6bca8ff",
   "metadata": {},
   "outputs": [
    {
     "name": "stdout",
     "output_type": "stream",
     "text": [
      "The Train score for Lasso Model is : 0.6814893088383123\n",
      "The test score for Lasso Model is : 0.6729583913175085\n"
     ]
    }
   ],
   "source": [
    "print(\"The Train score for Lasso Model is : {}\".format(train_score_las))\n",
    "print(\"The test score for Lasso Model is : {}\".format(test_score_las))"
   ]
  },
  {
   "cell_type": "code",
   "execution_count": null,
   "id": "9d05398e",
   "metadata": {},
   "outputs": [],
   "source": []
  },
  {
   "cell_type": "code",
   "execution_count": null,
   "id": "9e9dbd3d",
   "metadata": {},
   "outputs": [],
   "source": []
  },
  {
   "cell_type": "code",
   "execution_count": null,
   "id": "913b6fbd",
   "metadata": {},
   "outputs": [],
   "source": []
  },
  {
   "cell_type": "code",
   "execution_count": null,
   "id": "5a5532ae",
   "metadata": {},
   "outputs": [],
   "source": []
  },
  {
   "cell_type": "code",
   "execution_count": null,
   "id": "0cdb2fc0",
   "metadata": {},
   "outputs": [],
   "source": []
  }
 ],
 "metadata": {
  "kernelspec": {
   "display_name": "Python 3 (ipykernel)",
   "language": "python",
   "name": "python3"
  },
  "language_info": {
   "codemirror_mode": {
    "name": "ipython",
    "version": 3
   },
   "file_extension": ".py",
   "mimetype": "text/x-python",
   "name": "python",
   "nbconvert_exporter": "python",
   "pygments_lexer": "ipython3",
   "version": "3.9.12"
  }
 },
 "nbformat": 4,
 "nbformat_minor": 5
}
