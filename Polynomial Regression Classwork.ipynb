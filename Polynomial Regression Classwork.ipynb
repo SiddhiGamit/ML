{
 "cells": [
  {
   "cell_type": "code",
   "execution_count": 1,
   "id": "1f64bd1a",
   "metadata": {},
   "outputs": [],
   "source": [
    "import pandas as pd\n",
    "import numpy as np\n",
    "import matplotlib.pyplot as plt\n",
    "import seaborn as sns"
   ]
  },
  {
   "cell_type": "code",
   "execution_count": 2,
   "id": "22fe4efc",
   "metadata": {},
   "outputs": [],
   "source": [
    "import warnings\n",
    "warnings.filterwarnings('ignore')"
   ]
  },
  {
   "cell_type": "code",
   "execution_count": 3,
   "id": "3a549a62",
   "metadata": {},
   "outputs": [],
   "source": [
    "df = pd.read_excel('Polynomial.xlsx')"
   ]
  },
  {
   "cell_type": "code",
   "execution_count": 4,
   "id": "055d7a58",
   "metadata": {},
   "outputs": [
    {
     "data": {
      "text/html": [
       "<div>\n",
       "<style scoped>\n",
       "    .dataframe tbody tr th:only-of-type {\n",
       "        vertical-align: middle;\n",
       "    }\n",
       "\n",
       "    .dataframe tbody tr th {\n",
       "        vertical-align: top;\n",
       "    }\n",
       "\n",
       "    .dataframe thead th {\n",
       "        text-align: right;\n",
       "    }\n",
       "</style>\n",
       "<table border=\"1\" class=\"dataframe\">\n",
       "  <thead>\n",
       "    <tr style=\"text-align: right;\">\n",
       "      <th></th>\n",
       "      <th>Position</th>\n",
       "      <th>Level</th>\n",
       "      <th>Salary</th>\n",
       "    </tr>\n",
       "  </thead>\n",
       "  <tbody>\n",
       "    <tr>\n",
       "      <th>0</th>\n",
       "      <td>Business Analytics</td>\n",
       "      <td>1</td>\n",
       "      <td>45000</td>\n",
       "    </tr>\n",
       "    <tr>\n",
       "      <th>1</th>\n",
       "      <td>Junior Consultant</td>\n",
       "      <td>2</td>\n",
       "      <td>50000</td>\n",
       "    </tr>\n",
       "    <tr>\n",
       "      <th>2</th>\n",
       "      <td>Senior Consultant</td>\n",
       "      <td>3</td>\n",
       "      <td>60000</td>\n",
       "    </tr>\n",
       "    <tr>\n",
       "      <th>3</th>\n",
       "      <td>Manager</td>\n",
       "      <td>4</td>\n",
       "      <td>80000</td>\n",
       "    </tr>\n",
       "    <tr>\n",
       "      <th>4</th>\n",
       "      <td>Country Manager</td>\n",
       "      <td>5</td>\n",
       "      <td>110000</td>\n",
       "    </tr>\n",
       "    <tr>\n",
       "      <th>5</th>\n",
       "      <td>Region Manager</td>\n",
       "      <td>6</td>\n",
       "      <td>150000</td>\n",
       "    </tr>\n",
       "    <tr>\n",
       "      <th>6</th>\n",
       "      <td>Partner</td>\n",
       "      <td>7</td>\n",
       "      <td>200000</td>\n",
       "    </tr>\n",
       "    <tr>\n",
       "      <th>7</th>\n",
       "      <td>Senior Partner</td>\n",
       "      <td>8</td>\n",
       "      <td>300000</td>\n",
       "    </tr>\n",
       "    <tr>\n",
       "      <th>8</th>\n",
       "      <td>C-level</td>\n",
       "      <td>9</td>\n",
       "      <td>500000</td>\n",
       "    </tr>\n",
       "    <tr>\n",
       "      <th>9</th>\n",
       "      <td>CEO</td>\n",
       "      <td>10</td>\n",
       "      <td>1000000</td>\n",
       "    </tr>\n",
       "  </tbody>\n",
       "</table>\n",
       "</div>"
      ],
      "text/plain": [
       "             Position  Level   Salary\n",
       "0  Business Analytics      1    45000\n",
       "1   Junior Consultant      2    50000\n",
       "2   Senior Consultant      3    60000\n",
       "3             Manager      4    80000\n",
       "4     Country Manager      5   110000\n",
       "5      Region Manager      6   150000\n",
       "6             Partner      7   200000\n",
       "7      Senior Partner      8   300000\n",
       "8             C-level      9   500000\n",
       "9                 CEO     10  1000000"
      ]
     },
     "execution_count": 4,
     "metadata": {},
     "output_type": "execute_result"
    }
   ],
   "source": [
    "df"
   ]
  },
  {
   "cell_type": "code",
   "execution_count": 5,
   "id": "38139bfc",
   "metadata": {},
   "outputs": [
    {
     "name": "stdout",
     "output_type": "stream",
     "text": [
      "<class 'pandas.core.frame.DataFrame'>\n",
      "RangeIndex: 10 entries, 0 to 9\n",
      "Data columns (total 3 columns):\n",
      " #   Column    Non-Null Count  Dtype \n",
      "---  ------    --------------  ----- \n",
      " 0   Position  10 non-null     object\n",
      " 1   Level     10 non-null     int64 \n",
      " 2   Salary    10 non-null     int64 \n",
      "dtypes: int64(2), object(1)\n",
      "memory usage: 368.0+ bytes\n"
     ]
    }
   ],
   "source": [
    "df.info()"
   ]
  },
  {
   "cell_type": "code",
   "execution_count": 6,
   "id": "08b0d390",
   "metadata": {},
   "outputs": [
    {
     "data": {
      "text/plain": [
       "Business Analytics    1\n",
       "Junior Consultant     1\n",
       "Senior Consultant     1\n",
       "Manager               1\n",
       "Country Manager       1\n",
       "Region Manager        1\n",
       "Partner               1\n",
       "Senior Partner        1\n",
       "C-level               1\n",
       "CEO                   1\n",
       "Name: Position, dtype: int64"
      ]
     },
     "execution_count": 6,
     "metadata": {},
     "output_type": "execute_result"
    }
   ],
   "source": [
    "df['Position'].value_counts()"
   ]
  },
  {
   "cell_type": "code",
   "execution_count": 7,
   "id": "634ecce3",
   "metadata": {},
   "outputs": [],
   "source": [
    "X = df.iloc[:,1:-1].values\n",
    "y = df.iloc[:,-1].values"
   ]
  },
  {
   "cell_type": "code",
   "execution_count": 8,
   "id": "c10ef8dc",
   "metadata": {},
   "outputs": [
    {
     "data": {
      "text/plain": [
       "array([[ 1],\n",
       "       [ 2],\n",
       "       [ 3],\n",
       "       [ 4],\n",
       "       [ 5],\n",
       "       [ 6],\n",
       "       [ 7],\n",
       "       [ 8],\n",
       "       [ 9],\n",
       "       [10]], dtype=int64)"
      ]
     },
     "execution_count": 8,
     "metadata": {},
     "output_type": "execute_result"
    }
   ],
   "source": [
    "X"
   ]
  },
  {
   "cell_type": "code",
   "execution_count": 9,
   "id": "457e984c",
   "metadata": {},
   "outputs": [
    {
     "data": {
      "text/plain": [
       "array([  45000,   50000,   60000,   80000,  110000,  150000,  200000,\n",
       "        300000,  500000, 1000000], dtype=int64)"
      ]
     },
     "execution_count": 9,
     "metadata": {},
     "output_type": "execute_result"
    }
   ],
   "source": [
    "y"
   ]
  },
  {
   "cell_type": "code",
   "execution_count": 10,
   "id": "80b4fd07",
   "metadata": {},
   "outputs": [
    {
     "data": {
      "image/png": "[encoded data removed]",
      "text/plain": [
       "<Figure size 432x288 with 1 Axes>"
      ]
     },
     "metadata": {
      "needs_background": "light"
     },
     "output_type": "display_data"
    }
   ],
   "source": [
    "plt.scatter(X,y)\n",
    "plt.show()"
   ]
  },
  {
   "cell_type": "code",
   "execution_count": 11,
   "id": "f24c3bbf",
   "metadata": {},
   "outputs": [
    {
     "data": {
      "image/png": "[encoded data removed]",
      "text/plain": [
       "<Figure size 432x288 with 1 Axes>"
      ]
     },
     "metadata": {
      "needs_background": "light"
     },
     "output_type": "display_data"
    }
   ],
   "source": [
    "sns.regplot(X,y)\n",
    "plt.show()"
   ]
  },
  {
   "cell_type": "markdown",
   "id": "25655f90",
   "metadata": {},
   "source": [
    "## Linear Regression Model"
   ]
  },
  {
   "cell_type": "code",
   "execution_count": 12,
   "id": "83a538e6",
   "metadata": {},
   "outputs": [],
   "source": [
    "from sklearn.linear_model import LinearRegression"
   ]
  },
  {
   "cell_type": "code",
   "execution_count": 13,
   "id": "bb08ffb4",
   "metadata": {},
   "outputs": [],
   "source": [
    "lr = LinearRegression()"
   ]
  },
  {
   "cell_type": "code",
   "execution_count": 14,
   "id": "3461a1c4",
   "metadata": {},
   "outputs": [
    {
     "data": {
      "text/plain": [
       "LinearRegression()"
      ]
     },
     "execution_count": 14,
     "metadata": {},
     "output_type": "execute_result"
    }
   ],
   "source": [
    "lr.fit(X,y)"
   ]
  },
  {
   "cell_type": "code",
   "execution_count": 15,
   "id": "b37a73d5",
   "metadata": {},
   "outputs": [],
   "source": [
    "y_pred = lr.predict(X)"
   ]
  },
  {
   "cell_type": "code",
   "execution_count": 16,
   "id": "48d47214",
   "metadata": {},
   "outputs": [
    {
     "data": {
      "text/plain": [
       "array([-114454.54545455,  -33575.75757576,   47303.03030303,\n",
       "        128181.81818182,  209060.60606061,  289939.39393939,\n",
       "        370818.18181818,  451696.96969697,  532575.75757576,\n",
       "        613454.54545455])"
      ]
     },
     "execution_count": 16,
     "metadata": {},
     "output_type": "execute_result"
    }
   ],
   "source": [
    "y_pred"
   ]
  },
  {
   "cell_type": "markdown",
   "id": "482a559a",
   "metadata": {},
   "source": [
    "## Visualition"
   ]
  },
  {
   "cell_type": "code",
   "execution_count": 17,
   "id": "4b072694",
   "metadata": {},
   "outputs": [
    {
     "data": {
      "image/png": "[encoded data removed]",
      "text/plain": [
       "<Figure size 432x288 with 1 Axes>"
      ]
     },
     "metadata": {
      "needs_background": "light"
     },
     "output_type": "display_data"
    }
   ],
   "source": [
    "plt.scatter(X,y,color='red')\n",
    "plt.plot(X,y_pred,color='green')\n",
    "plt.title('Truth or Bluff(Linear regression)')\n",
    "plt.xlabel('Position Level')\n",
    "plt.ylabel('Salary')\n",
    "plt.show()"
   ]
  },
  {
   "cell_type": "markdown",
   "id": "7e24f647",
   "metadata": {},
   "source": [
    "## Training the Polynomial Regression Model on the whole Dataset"
   ]
  },
  {
   "cell_type": "code",
   "execution_count": 18,
   "id": "7a4aae82",
   "metadata": {},
   "outputs": [],
   "source": [
    "from sklearn.preprocessing import PolynomialFeatures"
   ]
  },
  {
   "cell_type": "code",
   "execution_count": 19,
   "id": "58d3b87a",
   "metadata": {},
   "outputs": [],
   "source": [
    "pr = PolynomialFeatures(degree=4)"
   ]
  },
  {
   "cell_type": "code",
   "execution_count": 20,
   "id": "122d2385",
   "metadata": {},
   "outputs": [
    {
     "data": {
      "text/plain": [
       "array([[ 1],\n",
       "       [ 2],\n",
       "       [ 3],\n",
       "       [ 4],\n",
       "       [ 5],\n",
       "       [ 6],\n",
       "       [ 7],\n",
       "       [ 8],\n",
       "       [ 9],\n",
       "       [10]], dtype=int64)"
      ]
     },
     "execution_count": 20,
     "metadata": {},
     "output_type": "execute_result"
    }
   ],
   "source": [
    "X"
   ]
  },
  {
   "cell_type": "code",
   "execution_count": 21,
   "id": "09519437",
   "metadata": {},
   "outputs": [],
   "source": [
    "X_poly = pr.fit_transform(X)   ## Converting X to X^0, X^1, X^2, X^3, X^4"
   ]
  },
  {
   "cell_type": "code",
   "execution_count": 22,
   "id": "8804e558",
   "metadata": {},
   "outputs": [
    {
     "data": {
      "text/plain": [
       "array([[1.000e+00, 1.000e+00, 1.000e+00, 1.000e+00, 1.000e+00],\n",
       "       [1.000e+00, 2.000e+00, 4.000e+00, 8.000e+00, 1.600e+01],\n",
       "       [1.000e+00, 3.000e+00, 9.000e+00, 2.700e+01, 8.100e+01],\n",
       "       [1.000e+00, 4.000e+00, 1.600e+01, 6.400e+01, 2.560e+02],\n",
       "       [1.000e+00, 5.000e+00, 2.500e+01, 1.250e+02, 6.250e+02],\n",
       "       [1.000e+00, 6.000e+00, 3.600e+01, 2.160e+02, 1.296e+03],\n",
       "       [1.000e+00, 7.000e+00, 4.900e+01, 3.430e+02, 2.401e+03],\n",
       "       [1.000e+00, 8.000e+00, 6.400e+01, 5.120e+02, 4.096e+03],\n",
       "       [1.000e+00, 9.000e+00, 8.100e+01, 7.290e+02, 6.561e+03],\n",
       "       [1.000e+00, 1.000e+01, 1.000e+02, 1.000e+03, 1.000e+04]])"
      ]
     },
     "execution_count": 22,
     "metadata": {},
     "output_type": "execute_result"
    }
   ],
   "source": [
    "X_poly"
   ]
  },
  {
   "cell_type": "code",
   "execution_count": 23,
   "id": "115e8f6e",
   "metadata": {},
   "outputs": [],
   "source": [
    "lr_poly = LinearRegression()"
   ]
  },
  {
   "cell_type": "code",
   "execution_count": 24,
   "id": "beb6414f",
   "metadata": {},
   "outputs": [
    {
     "data": {
      "text/plain": [
       "LinearRegression()"
      ]
     },
     "execution_count": 24,
     "metadata": {},
     "output_type": "execute_result"
    }
   ],
   "source": [
    "lr_poly.fit(X_poly,y)"
   ]
  },
  {
   "cell_type": "markdown",
   "id": "24018f5e",
   "metadata": {},
   "source": [
    "## Polynomial Prediction"
   ]
  },
  {
   "cell_type": "code",
   "execution_count": 25,
   "id": "1c1ef63b",
   "metadata": {},
   "outputs": [],
   "source": [
    "y_pred_poly = lr_poly.predict(X_poly)"
   ]
  },
  {
   "cell_type": "code",
   "execution_count": 26,
   "id": "f6647b1d",
   "metadata": {},
   "outputs": [
    {
     "data": {
      "text/plain": [
       "array([ 53356.64335681,  31759.90675996,  58642.19114221,  94632.86713289,\n",
       "       121724.94172498, 143275.05827508, 184003.49650349, 289994.17249411,\n",
       "       528694.63869452, 988916.08391594])"
      ]
     },
     "execution_count": 26,
     "metadata": {},
     "output_type": "execute_result"
    }
   ],
   "source": [
    "y_pred_poly"
   ]
  },
  {
   "cell_type": "markdown",
   "id": "207e000d",
   "metadata": {},
   "source": [
    "## Visualition on the Polynomial prediction"
   ]
  },
  {
   "cell_type": "code",
   "execution_count": 27,
   "id": "c570bf23",
   "metadata": {},
   "outputs": [
    {
     "data": {
      "image/png": "[encoded data removed]",
      "text/plain": [
       "<Figure size 432x288 with 1 Axes>"
      ]
     },
     "metadata": {
      "needs_background": "light"
     },
     "output_type": "display_data"
    }
   ],
   "source": [
    "plt.scatter(X,y,color='red')\n",
    "plt.plot(X,y_pred_poly,color='green')\n",
    "plt.title('Truth or Bluff(Linear regression)')\n",
    "plt.xlabel('Position Level')\n",
    "plt.ylabel('Salary')\n",
    "plt.show()"
   ]
  },
  {
   "cell_type": "markdown",
   "id": "f48befd7",
   "metadata": {},
   "source": [
    "# Evaluating the Model"
   ]
  },
  {
   "cell_type": "code",
   "execution_count": 28,
   "id": "1bee3814",
   "metadata": {},
   "outputs": [],
   "source": [
    "from sklearn.metrics import r2_score, mean_squared_error"
   ]
  },
  {
   "cell_type": "code",
   "execution_count": 29,
   "id": "03b9448b",
   "metadata": {},
   "outputs": [
    {
     "name": "stdout",
     "output_type": "stream",
     "text": [
      "r2 score of linear:  0.6690412331929895\n"
     ]
    }
   ],
   "source": [
    "r2_linear = r2_score(y, y_pred)\n",
    "print('r2 score of linear: ',r2_linear )"
   ]
  },
  {
   "cell_type": "code",
   "execution_count": 30,
   "id": "2b123ee4",
   "metadata": {},
   "outputs": [
    {
     "name": "stdout",
     "output_type": "stream",
     "text": [
      "MSE of linear:  26695878787.878788\n"
     ]
    }
   ],
   "source": [
    "mse_linear = mean_squared_error(y, y_pred)\n",
    "print('MSE of linear: ', mse_linear)"
   ]
  },
  {
   "cell_type": "code",
   "execution_count": 31,
   "id": "b58fe1c6",
   "metadata": {},
   "outputs": [],
   "source": [
    "y_pred_poly = lr_poly.predict(X_poly)"
   ]
  },
  {
   "cell_type": "code",
   "execution_count": 32,
   "id": "0a1fdaca",
   "metadata": {},
   "outputs": [
    {
     "data": {
      "text/plain": [
       "array([ 53356.64335681,  31759.90675996,  58642.19114221,  94632.86713289,\n",
       "       121724.94172498, 143275.05827508, 184003.49650349, 289994.17249411,\n",
       "       528694.63869452, 988916.08391594])"
      ]
     },
     "execution_count": 32,
     "metadata": {},
     "output_type": "execute_result"
    }
   ],
   "source": [
    "y_pred_poly"
   ]
  },
  {
   "cell_type": "code",
   "execution_count": 33,
   "id": "f3ae6e26",
   "metadata": {},
   "outputs": [],
   "source": [
    "### polynomial r2 score and MSE"
   ]
  },
  {
   "cell_type": "code",
   "execution_count": 34,
   "id": "1bce06e0",
   "metadata": {},
   "outputs": [
    {
     "name": "stdout",
     "output_type": "stream",
     "text": [
      "r2 score of Polynomial Linear Regression:  0.9973922891706614\n"
     ]
    }
   ],
   "source": [
    "r2_poly = r2_score(y, y_pred_poly)\n",
    "print('r2 score of Polynomial Linear Regression: ',r2_poly )"
   ]
  },
  {
   "cell_type": "code",
   "execution_count": 35,
   "id": "2234303f",
   "metadata": {},
   "outputs": [
    {
     "name": "stdout",
     "output_type": "stream",
     "text": [
      "MSE of Polynomialr Linear regression:  210343822.8438184\n"
     ]
    }
   ],
   "source": [
    "mse_poly = mean_squared_error(y, y_pred_poly)\n",
    "print('MSE of Polynomialr Linear regression: ', mse_poly)"
   ]
  },
  {
   "cell_type": "markdown",
   "id": "8bac6090",
   "metadata": {},
   "source": [
    "## Predicting a New Result with Linear Regression"
   ]
  },
  {
   "cell_type": "code",
   "execution_count": 36,
   "id": "006946a9",
   "metadata": {},
   "outputs": [
    {
     "data": {
      "text/plain": [
       "array([330378.78787879])"
      ]
     },
     "execution_count": 36,
     "metadata": {},
     "output_type": "execute_result"
    }
   ],
   "source": [
    "lr.predict([[6.5]])"
   ]
  },
  {
   "cell_type": "markdown",
   "id": "799497be",
   "metadata": {},
   "source": [
    "## Predicting a new Result with Polynomial Regression"
   ]
  },
  {
   "cell_type": "code",
   "execution_count": 37,
   "id": "30803381",
   "metadata": {},
   "outputs": [
    {
     "data": {
      "text/plain": [
       "array([158862.45265153])"
      ]
     },
     "execution_count": 37,
     "metadata": {},
     "output_type": "execute_result"
    }
   ],
   "source": [
    "lr_poly.predict(pr.fit_transform([[6.5]]))"
   ]
  },
  {
   "cell_type": "code",
   "execution_count": null,
   "id": "911eb288",
   "metadata": {},
   "outputs": [],
   "source": []
  }
 ],
 "metadata": {
  "kernelspec": {
   "display_name": "Python 3 (ipykernel)",
   "language": "python",
   "name": "python3"
  },
  "language_info": {
   "codemirror_mode": {
    "name": "ipython",
    "version": 3
   },
   "file_extension": ".py",
   "mimetype": "text/x-python",
   "name": "python",
   "nbconvert_exporter": "python",
   "pygments_lexer": "ipython3",
   "version": "3.9.12"
  }
 },
 "nbformat": 4,
 "nbformat_minor": 5
}
