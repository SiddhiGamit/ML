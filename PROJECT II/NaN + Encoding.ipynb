{
 "cells": [
  {
   "cell_type": "markdown",
   "id": "1cf48695",
   "metadata": {},
   "source": [
    "# For NaN Values"
   ]
  },
  {
   "cell_type": "code",
   "execution_count": null,
   "id": "daabbfe3",
   "metadata": {},
   "outputs": [],
   "source": [
    "df_train.isna()"
   ]
  },
  {
   "cell_type": "code",
   "execution_count": null,
   "id": "7cec3b48",
   "metadata": {},
   "outputs": [],
   "source": [
    "df_train.isna().any()"
   ]
  },
  {
   "cell_type": "code",
   "execution_count": null,
   "id": "ed60f9ca",
   "metadata": {},
   "outputs": [],
   "source": [
    "sum(df_train.isna().any())"
   ]
  },
  {
   "cell_type": "code",
   "execution_count": null,
   "id": "1d102ad8",
   "metadata": {},
   "outputs": [],
   "source": [
    "# Fill Nan Values\n",
    "def fillna_all(df):\n",
    "    for col in list_obj_col:\n",
    "        df[col].fillna(value = df[col].mode()[0],inplace = True)\n",
    "    for col in list_num_col:\n",
    "        df[col].fillna(value = df[col].mean(),inplace = True)\n",
    " "
   ]
  },
  {
   "cell_type": "code",
   "execution_count": null,
   "id": "ecba844f",
   "metadata": {},
   "outputs": [],
   "source": [
    "# Object Column\n",
    "list_obj_col = df_train.select_dtypes(include='object')"
   ]
  },
  {
   "cell_type": "code",
   "execution_count": null,
   "id": "b183f5a2",
   "metadata": {},
   "outputs": [],
   "source": [
    "list_obj_col.shape"
   ]
  },
  {
   "cell_type": "code",
   "execution_count": null,
   "id": "fd395806",
   "metadata": {},
   "outputs": [],
   "source": [
    "list_obj_col = df_train.select_dtypes(include='object').columns"
   ]
  },
  {
   "cell_type": "code",
   "execution_count": null,
   "id": "a5c052de",
   "metadata": {},
   "outputs": [],
   "source": [
    "list_obj_col = list(df_train.select_dtypes(include='object').columns)"
   ]
  },
  {
   "cell_type": "code",
   "execution_count": null,
   "id": "8d57d81f",
   "metadata": {},
   "outputs": [],
   "source": [
    "list_obj_col"
   ]
  },
  {
   "cell_type": "code",
   "execution_count": null,
   "id": "3cda6566",
   "metadata": {},
   "outputs": [],
   "source": [
    "len(list_obj_col)"
   ]
  },
  {
   "cell_type": "code",
   "execution_count": null,
   "id": "e08ea755",
   "metadata": {},
   "outputs": [],
   "source": [
    "# Numeric Column"
   ]
  },
  {
   "cell_type": "code",
   "execution_count": null,
   "id": "08bf32b2",
   "metadata": {},
   "outputs": [],
   "source": [
    "list_num_col = list(df_train.select_dtypes(exclude='object').columns)"
   ]
  },
  {
   "cell_type": "code",
   "execution_count": null,
   "id": "fe566afd",
   "metadata": {},
   "outputs": [],
   "source": [
    "list_num_col"
   ]
  },
  {
   "cell_type": "code",
   "execution_count": null,
   "id": "86f1d901",
   "metadata": {},
   "outputs": [],
   "source": [
    "len(list_num_col)"
   ]
  },
  {
   "cell_type": "code",
   "execution_count": null,
   "id": "c0a3c9cc",
   "metadata": {},
   "outputs": [],
   "source": [
    "# any categorical column\n",
    "df_train['BsmtCond'].value_counts()\n"
   ]
  },
  {
   "cell_type": "code",
   "execution_count": null,
   "id": "b2048ba6",
   "metadata": {},
   "outputs": [],
   "source": [
    "df_train['BsmtCond'].mode()[0]"
   ]
  },
  {
   "cell_type": "code",
   "execution_count": null,
   "id": "81af8d8c",
   "metadata": {},
   "outputs": [],
   "source": [
    "# any numeric column\n",
    "df_train['YearBuilt'].mean()"
   ]
  },
  {
   "cell_type": "code",
   "execution_count": null,
   "id": "7891c44a",
   "metadata": {},
   "outputs": [],
   "source": [
    "df_train.info()"
   ]
  },
  {
   "cell_type": "code",
   "execution_count": null,
   "id": "e301cdbf",
   "metadata": {},
   "outputs": [],
   "source": [
    "df_train.isna().any()"
   ]
  },
  {
   "cell_type": "code",
   "execution_count": null,
   "id": "28119c16",
   "metadata": {},
   "outputs": [],
   "source": [
    "sum(df_train.isna().any())"
   ]
  },
  {
   "cell_type": "markdown",
   "id": "b07a3ebd",
   "metadata": {},
   "source": [
    "## Encoding"
   ]
  },
  {
   "cell_type": "code",
   "execution_count": null,
   "id": "f9cda679",
   "metadata": {},
   "outputs": [],
   "source": [
    "for col in list_obj_col:\n",
    "    print(col, ':', df_train[col].nunique())"
   ]
  },
  {
   "cell_type": "code",
   "execution_count": null,
   "id": "b2c47c48",
   "metadata": {},
   "outputs": [],
   "source": [
    "temp = df_train['Id']"
   ]
  },
  {
   "cell_type": "code",
   "execution_count": null,
   "id": "3db086af",
   "metadata": {},
   "outputs": [],
   "source": [
    "dummy = pd.get_dummies(df_train[list_obj_col], prefix=list_obj_col)"
   ]
  },
  {
   "cell_type": "code",
   "execution_count": null,
   "id": "1bfd6fe3",
   "metadata": {},
   "outputs": [],
   "source": [
    "df_train.drop(list_obj_col,axis = 1, inplace=True)"
   ]
  },
  {
   "cell_type": "code",
   "execution_count": null,
   "id": "4d87b641",
   "metadata": {},
   "outputs": [],
   "source": [
    "df_train.shape"
   ]
  },
  {
   "cell_type": "code",
   "execution_count": null,
   "id": "c4fd6af3",
   "metadata": {},
   "outputs": [],
   "source": [
    "df_train_final = pd.concat([df_train,dummy],axis = 1)"
   ]
  },
  {
   "cell_type": "code",
   "execution_count": null,
   "id": "5493ea7e",
   "metadata": {},
   "outputs": [],
   "source": [
    "dummy.shape"
   ]
  },
  {
   "cell_type": "code",
   "execution_count": null,
   "id": "de7d3291",
   "metadata": {},
   "outputs": [],
   "source": [
    "df_train_final.shape"
   ]
  },
  {
   "cell_type": "code",
   "execution_count": null,
   "id": "7a4b4681",
   "metadata": {},
   "outputs": [],
   "source": [
    "df_train_final.info()"
   ]
  },
  {
   "cell_type": "code",
   "execution_count": null,
   "id": "adeaebc4",
   "metadata": {},
   "outputs": [],
   "source": [
    "df_train_final"
   ]
  }
 ],
 "metadata": {
  "kernelspec": {
   "display_name": "Python 3 (ipykernel)",
   "language": "python",
   "name": "python3"
  },
  "language_info": {
   "codemirror_mode": {
    "name": "ipython",
    "version": 3
   },
   "file_extension": ".py",
   "mimetype": "text/x-python",
   "name": "python",
   "nbconvert_exporter": "python",
   "pygments_lexer": "ipython3",
   "version": "3.9.12"
  }
 },
 "nbformat": 4,
 "nbformat_minor": 5
}
